{
 "cells": [
  {
   "cell_type": "code",
   "execution_count": 1,
   "source": [
    "import json, csv\r\n",
    "import codecs\r\n",
    "import random\r\n",
    "import pandas as pd\r\n",
    "\r\n",
    "from clean_json import read_danam_export, get_caption, metadata_from_json, metadata_from_caption, valid_caption, write_json"
   ],
   "outputs": [],
   "metadata": {}
  },
  {
   "cell_type": "code",
   "execution_count": 2,
   "source": [
    "danam_export = \"json\\DANAM\\Monument_2021-09-29_08-16-16.json\"\r\n",
    "danam = json.load(codecs.open(danam_export, 'r', 'utf-8'))\r\n",
    "danam = danam['business_data']['resources']\r\n",
    "danam_images = read_danam_export(danam_export)"
   ],
   "outputs": [],
   "metadata": {}
  },
  {
   "cell_type": "code",
   "execution_count": 3,
   "source": [
    "for image in danam_images:\r\n",
    "    image['danam_caption'] = get_caption(image).replace(\"\\n\", '')\r\n",
    "    metadata_from_json(image, image)\r\n",
    "    \r\n",
    "    caption = image['danam_caption']\r\n",
    "    parts = caption.split(';')\r\n",
    "    if  not valid_caption(caption) or len(parts) < 3: \r\n",
    "          image['validCaption'] = False\r\n",
    "    else: \r\n",
    "        image['validCaption'] = True\r\n",
    "        metadata_from_caption(caption.split(\";\"), image)\r\n",
    "      \r\n",
    "        \r\n",
    "        \r\n",
    "    image['lastModified'] = image['imagedata'][0]['lastModified']\r\n",
    "    \r\n",
    "    try:\r\n",
    "        del image['imagedata']\r\n",
    "        del image['editorials']\r\n",
    "        del image['mon_ids']\r\n",
    "    except: \r\n",
    "        pass\r\n",
    "    \r\n",
    "    dels = [key for key in image.keys() if image[key]==None]\r\n",
    "    for i in dels:\r\n",
    "        del image[i]\r\n",
    "        \r\n",
    "    \r\n",
    "    \r\n",
    "            \r\n",
    "    "
   ],
   "outputs": [],
   "metadata": {}
  },
  {
   "cell_type": "code",
   "execution_count": 23,
   "source": [
    "i = random.randint(0, len(danam_images))\r\n",
    "print(danam_images[i].keys())\r\n",
    "danam_images[i]"
   ],
   "outputs": [
    {
     "output_type": "stream",
     "name": "stdout",
     "text": [
      "dict_keys(['fb0a532e-b8f7-11e9-b8a9-0242ac120007', 'danam_id', 'danam_caption', 'filename_danam', 'filetype', 'filename', 'editorial', 'report_url', 'mon_id', 'classification', 'notes', 'heidoc', 'heidata', 'validCaption', 'caption', 'date1', 'date2', 'date', 'date3', 'agent', 'role', 'agent2', 'role2', 'copyright', 'source', 'class_code', 'agent3', 'date_scan', 'license', 'url', 'rights_text', 'lastModified'])\n"
     ]
    },
    {
     "output_type": "execute_result",
     "data": {
      "text/plain": [
       "{'fb0a532e-b8f7-11e9-b8a9-0242ac120007': 'Nhugu Phalcā at Cyāsal, dāphā bhajana for kartik purnima, view from NE; photo by Christiane Brosius; 2019-11-12\\n',\n",
       " 'danam_id': 'cf2cf2a2-fbb9-11e9-a3c8-0242ac130002',\n",
       " 'danam_caption': 'Nhugu Phalcā at Cyāsal, dāphā bhajana for kartik purnima, view from NE; photo by Christiane Brosius; 2019-11-12 ',\n",
       " 'filename_danam': 'LAL4159_P_20191112_03',\n",
       " 'filetype': 'jpg',\n",
       " 'filename': 'LAL4159_P_20191112_03',\n",
       " 'editorial': '<p>Editor: Christiane Brosius</p><p>Descriptions, iconography, social and religious activities: Axel Michaels, Nutan Sharma</p><p>Photography after 2015: Anil Basukala</p><p>Drawings and architectural data: Anil Basukala, Bijay Basukala, Niels Gutschow</p><p>Historical events, inscriptions: Anil Basukala</p>',\n",
       " 'report_url': 'cf2cf2a2-fbb9-11e9-a3c8-0242ac130002',\n",
       " 'mon_id': 'LAL4159',\n",
       " 'classification': 'Architekturfotografie',\n",
       " 'notes': '',\n",
       " 'heidoc': '',\n",
       " 'heidata': '',\n",
       " 'validCaption': True,\n",
       " 'caption': 'Nhugu Phalcā at Cyāsal, dāphā bhajana for kartik purnima, view from NE',\n",
       " 'date1': '',\n",
       " 'date2': '',\n",
       " 'date': '2019-11-12',\n",
       " 'date3': '',\n",
       " 'agent': '1182530',\n",
       " 'role': 'photographer',\n",
       " 'agent2': '',\n",
       " 'role2': '',\n",
       " 'copyright': 'Nepal Heritage Documentation Project',\n",
       " 'source': '',\n",
       " 'class_code': '4002855-0',\n",
       " 'agent3': '',\n",
       " 'date_scan': '',\n",
       " 'license': 'CC BY-SA 4.0',\n",
       " 'url': 'https://uni-heidelberg.de/nhdp',\n",
       " 'rights_text': 'Nepal Heritage Documentation Project',\n",
       " 'lastModified': 1573703803000}"
      ]
     },
     "metadata": {},
     "execution_count": 23
    }
   ],
   "metadata": {}
  },
  {
   "cell_type": "code",
   "execution_count": 16,
   "source": [
    "write_json(danam_images)\r\n",
    "table = pd.DataFrame(danam_images)"
   ],
   "outputs": [],
   "metadata": {}
  },
  {
   "cell_type": "code",
   "execution_count": 27,
   "source": [
    "table.loc[table['validCaption']].dimension()"
   ],
   "outputs": [
    {
     "output_type": "error",
     "ename": "AttributeError",
     "evalue": "'DataFrame' object has no attribute 'dimension'",
     "traceback": [
      "\u001b[1;31m---------------------------------------------------------------------------\u001b[0m",
      "\u001b[1;31mAttributeError\u001b[0m                            Traceback (most recent call last)",
      "\u001b[1;32m~\\AppData\\Local\\Temp/ipykernel_4436/2788565892.py\u001b[0m in \u001b[0;36m<module>\u001b[1;34m\u001b[0m\n\u001b[1;32m----> 1\u001b[1;33m \u001b[0mtable\u001b[0m\u001b[1;33m.\u001b[0m\u001b[0mloc\u001b[0m\u001b[1;33m[\u001b[0m\u001b[0mtable\u001b[0m\u001b[1;33m[\u001b[0m\u001b[1;34m'validCaption'\u001b[0m\u001b[1;33m]\u001b[0m\u001b[1;33m]\u001b[0m\u001b[1;33m.\u001b[0m\u001b[0mdimension\u001b[0m\u001b[1;33m(\u001b[0m\u001b[1;33m)\u001b[0m\u001b[1;33m\u001b[0m\u001b[1;33m\u001b[0m\u001b[0m\n\u001b[0m",
      "\u001b[1;32m~\\AppData\\Local\\Programs\\Python\\Python39\\lib\\site-packages\\pandas\\core\\generic.py\u001b[0m in \u001b[0;36m__getattr__\u001b[1;34m(self, name)\u001b[0m\n\u001b[0;32m   5485\u001b[0m         ):\n\u001b[0;32m   5486\u001b[0m             \u001b[1;32mreturn\u001b[0m \u001b[0mself\u001b[0m\u001b[1;33m[\u001b[0m\u001b[0mname\u001b[0m\u001b[1;33m]\u001b[0m\u001b[1;33m\u001b[0m\u001b[1;33m\u001b[0m\u001b[0m\n\u001b[1;32m-> 5487\u001b[1;33m         \u001b[1;32mreturn\u001b[0m \u001b[0mobject\u001b[0m\u001b[1;33m.\u001b[0m\u001b[0m__getattribute__\u001b[0m\u001b[1;33m(\u001b[0m\u001b[0mself\u001b[0m\u001b[1;33m,\u001b[0m \u001b[0mname\u001b[0m\u001b[1;33m)\u001b[0m\u001b[1;33m\u001b[0m\u001b[1;33m\u001b[0m\u001b[0m\n\u001b[0m\u001b[0;32m   5488\u001b[0m \u001b[1;33m\u001b[0m\u001b[0m\n\u001b[0;32m   5489\u001b[0m     \u001b[1;32mdef\u001b[0m \u001b[0m__setattr__\u001b[0m\u001b[1;33m(\u001b[0m\u001b[0mself\u001b[0m\u001b[1;33m,\u001b[0m \u001b[0mname\u001b[0m\u001b[1;33m:\u001b[0m \u001b[0mstr\u001b[0m\u001b[1;33m,\u001b[0m \u001b[0mvalue\u001b[0m\u001b[1;33m)\u001b[0m \u001b[1;33m->\u001b[0m \u001b[1;32mNone\u001b[0m\u001b[1;33m:\u001b[0m\u001b[1;33m\u001b[0m\u001b[1;33m\u001b[0m\u001b[0m\n",
      "\u001b[1;31mAttributeError\u001b[0m: 'DataFrame' object has no attribute 'dimension'"
     ]
    }
   ],
   "metadata": {}
  },
  {
   "cell_type": "code",
   "execution_count": 18,
   "source": [
    "# Wriing to CSV \r\n",
    "cols = [\r\n",
    "        'filename', 'caption', 'date1', 'date2', 'date', 'date3', 'agent', 'role', 'agent2', 'role2',\r\n",
    "        'copyright', 'source', 'notes', 'mon_id', 'class_code', 'classification', 'agent3', 'date_scan',\r\n",
    "        'license', 'url', 'rights_text', 'heidata', 'heidoc'\r\n",
    "        ]\r\n",
    "\r\n",
    "table.to_csv(\"image_metadata.csv\", columns=cols, sep=';', index=False, quotechar = \"\\\"\", quoting=csv.QUOTE_ALL)"
   ],
   "outputs": [],
   "metadata": {}
  }
 ],
 "metadata": {
  "orig_nbformat": 4,
  "language_info": {
   "name": "python",
   "version": "3.9.6",
   "mimetype": "text/x-python",
   "codemirror_mode": {
    "name": "ipython",
    "version": 3
   },
   "pygments_lexer": "ipython3",
   "nbconvert_exporter": "python",
   "file_extension": ".py"
  },
  "kernelspec": {
   "name": "python3",
   "display_name": "Python 3.9.6 64-bit"
  },
  "interpreter": {
   "hash": "1150323f83a369a18831152bc7cb112c5104b40b4bca1f7e86eab23b1a1229a6"
  }
 },
 "nbformat": 4,
 "nbformat_minor": 2
}