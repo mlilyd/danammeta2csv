{
 "cells": [
  {
   "cell_type": "markdown",
   "metadata": {},
   "source": [
    "# Data Discrepancy between HeidICON and DANAM\n",
    "\n",
    "Compare the filenames between HeidICON and DANAM, and export the results into an excel file."
   ]
  },
  {
   "cell_type": "code",
   "execution_count": 1,
   "metadata": {},
   "outputs": [],
   "source": [
    "import pandas as pd\n",
    "from scripts.compare import *\n",
    "from scripts.write_csv import list_from_txt\n",
    "from IPython.display import display_markdown, display, Markdown\n",
    "\n",
    "pd.set_option('display.max_colwidth', None)\n",
    "pd.set_option('display.max_rows', 100)"
   ]
  },
  {
   "cell_type": "code",
   "execution_count": 2,
   "metadata": {},
   "outputs": [],
   "source": [
    "# read heidicon export\n",
    "heidicon_export = \"heidicon_export.xlsx\"\n",
    "danam_export = \"json\\DANAM\\Monument_2022-11-07_01-16-16.json\""
   ]
  },
  {
   "cell_type": "code",
   "execution_count": 3,
   "metadata": {},
   "outputs": [],
   "source": [
    "# load both heidicon and danam to pandas\n",
    "# this might take up to a minute.\n",
    "heidicon_df, danam_df = load_data(heidicon_export, danam_export)"
   ]
  },
  {
   "cell_type": "markdown",
   "metadata": {},
   "source": [
    "| key | description |\n",
    "|-----|-------------|\n",
    "| mon_id | Monument ID |\n",
    "| heidicon_img | Number of images in HeidICON |\n",
    "| heidicon_nometa | Number of images in HeidICON without metadata |\n",
    "| danam_img | Number of images in DANAM |\n",
    "| danam_nometa | Number of images in DANAM without a valid caption |\n",
    "| sds_img | Number of images in SDS |\n",
    "| files | Files of the monument from SDS, DANAM, and HeidICON as dataframe | \n",
    "| missing_danam | Files from HeidICON that are missing in DANAM |\n",
    "| count_missing_danam | Number of files missing in DANAM |\n",
    "| missing_heidicon | Files from DANAM that are missing in HeidICON |\n",
    "| count_missing_heidicon | Number of files missing in HeidICON |"
   ]
  },
  {
   "cell_type": "code",
   "execution_count": 4,
   "metadata": {},
   "outputs": [],
   "source": [
    "# evaluate file names for all monuments listed in mon/all.mon \n",
    "# and export to excel file test.xlsx\n",
    "# this calculation might take up to 5 minutes, depending \n",
    "# on the computer\n",
    "\n",
    "mon_ids = list_from_txt(\"mon/all.mon\")\n",
    "all = []\n",
    "for mon_id in mon_ids:\n",
    "    all.append(get_info_for_monument(mon_id, heidicon_df, danam_df))\n",
    "pd.DataFrame(all).to_excel(\"test.xlsx\")"
   ]
  },
  {
   "cell_type": "code",
   "execution_count": 4,
   "metadata": {},
   "outputs": [
    {
     "data": {
      "text/markdown": [
       "\n",
       "| Monument ID   | LAL4126  |\n",
       "|---|---|\n",
       "| Number of images in HeidICON  | 16  |\n",
       "| Number of images in HeidICON without metadata  | 0  |\n",
       "| Number of images in DANAM  | 18  |\n",
       "| Number of image without valid caption in DANAM | 0  |\n",
       "| Number of images in SDS  | 0  |\n",
       "\n"
      ],
      "text/plain": [
       "<IPython.core.display.Markdown object>"
      ]
     },
     "metadata": {},
     "output_type": "display_data"
    },
    {
     "data": {
      "text/html": [
       "<div>\n",
       "<style scoped>\n",
       "    .dataframe tbody tr th:only-of-type {\n",
       "        vertical-align: middle;\n",
       "    }\n",
       "\n",
       "    .dataframe tbody tr th {\n",
       "        vertical-align: top;\n",
       "    }\n",
       "\n",
       "    .dataframe thead th {\n",
       "        text-align: right;\n",
       "    }\n",
       "</style>\n",
       "<table border=\"1\" class=\"dataframe\">\n",
       "  <thead>\n",
       "    <tr style=\"text-align: right;\">\n",
       "      <th></th>\n",
       "      <th>danam</th>\n",
       "      <th>heidicon</th>\n",
       "    </tr>\n",
       "  </thead>\n",
       "  <tbody>\n",
       "    <tr>\n",
       "      <th>0</th>\n",
       "      <td>LAL4126</td>\n",
       "      <td>LAL4126-001_P_20190206_01</td>\n",
       "    </tr>\n",
       "    <tr>\n",
       "      <th>1</th>\n",
       "      <td>LAL4126-001_P_20190206_01</td>\n",
       "      <td>LAL4126_D_2020_floor_plan</td>\n",
       "    </tr>\n",
       "    <tr>\n",
       "      <th>2</th>\n",
       "      <td>LAL4126_D__2020FVnE</td>\n",
       "      <td>LAL4126_D_2020_location_map</td>\n",
       "    </tr>\n",
       "    <tr>\n",
       "      <th>3</th>\n",
       "      <td>LAL4126_D__2020_floor_plan</td>\n",
       "      <td>LAL4126_D_2020_section</td>\n",
       "    </tr>\n",
       "    <tr>\n",
       "      <th>4</th>\n",
       "      <td>LAL4126_D__2020_location_map</td>\n",
       "      <td>LAL4126_D_2020_site_plan</td>\n",
       "    </tr>\n",
       "    <tr>\n",
       "      <th>5</th>\n",
       "      <td>LAL4126_D__2020_site_plan</td>\n",
       "      <td>LAL4126_H_1978_01</td>\n",
       "    </tr>\n",
       "    <tr>\n",
       "      <th>6</th>\n",
       "      <td>LAL4126_H_01</td>\n",
       "      <td>LAL4126_H_20111209_01</td>\n",
       "    </tr>\n",
       "    <tr>\n",
       "      <th>7</th>\n",
       "      <td>LAL4126_H_1920s_anonymous</td>\n",
       "      <td>LAL4126_H_20111209_02</td>\n",
       "    </tr>\n",
       "    <tr>\n",
       "      <th>8</th>\n",
       "      <td>LAL4126_H_20111208_01</td>\n",
       "      <td>LAL4126_H_20111209_03</td>\n",
       "    </tr>\n",
       "    <tr>\n",
       "      <th>9</th>\n",
       "      <td>LAL4126_H_20111208_02</td>\n",
       "      <td>LAL4126_H_20111209_04</td>\n",
       "    </tr>\n",
       "    <tr>\n",
       "      <th>10</th>\n",
       "      <td>LAL4126_H_20111208_03</td>\n",
       "      <td>LAL4126_H_ND_01</td>\n",
       "    </tr>\n",
       "    <tr>\n",
       "      <th>11</th>\n",
       "      <td>LAL4126_H_20111208_04</td>\n",
       "      <td>LAL4126_P_20190206_01</td>\n",
       "    </tr>\n",
       "    <tr>\n",
       "      <th>12</th>\n",
       "      <td>LAL4126_H_20111208_04_3mEOu3s</td>\n",
       "      <td>LAL4126_P_20190206_04</td>\n",
       "    </tr>\n",
       "    <tr>\n",
       "      <th>13</th>\n",
       "      <td>LAL4126_P_20190206_01</td>\n",
       "      <td>LAL4126_P_20190206_05</td>\n",
       "    </tr>\n",
       "    <tr>\n",
       "      <th>14</th>\n",
       "      <td>LAL4126_P_20190206_04</td>\n",
       "      <td>LAL4126_P_20190206_06</td>\n",
       "    </tr>\n",
       "    <tr>\n",
       "      <th>15</th>\n",
       "      <td>LAL4126_P_20190206_05</td>\n",
       "      <td>LAL4126_P_20190206_07</td>\n",
       "    </tr>\n",
       "    <tr>\n",
       "      <th>16</th>\n",
       "      <td>LAL4126_P_20190206_06</td>\n",
       "      <td>NaN</td>\n",
       "    </tr>\n",
       "    <tr>\n",
       "      <th>17</th>\n",
       "      <td>LAL4126_P_20190206_07</td>\n",
       "      <td>NaN</td>\n",
       "    </tr>\n",
       "  </tbody>\n",
       "</table>\n",
       "</div>"
      ],
      "text/plain": [
       "                            danam                     heidicon\n",
       "0                         LAL4126    LAL4126-001_P_20190206_01\n",
       "1       LAL4126-001_P_20190206_01    LAL4126_D_2020_floor_plan\n",
       "2             LAL4126_D__2020FVnE  LAL4126_D_2020_location_map\n",
       "3      LAL4126_D__2020_floor_plan       LAL4126_D_2020_section\n",
       "4    LAL4126_D__2020_location_map     LAL4126_D_2020_site_plan\n",
       "5       LAL4126_D__2020_site_plan            LAL4126_H_1978_01\n",
       "6                    LAL4126_H_01        LAL4126_H_20111209_01\n",
       "7       LAL4126_H_1920s_anonymous        LAL4126_H_20111209_02\n",
       "8           LAL4126_H_20111208_01        LAL4126_H_20111209_03\n",
       "9           LAL4126_H_20111208_02        LAL4126_H_20111209_04\n",
       "10          LAL4126_H_20111208_03              LAL4126_H_ND_01\n",
       "11          LAL4126_H_20111208_04        LAL4126_P_20190206_01\n",
       "12  LAL4126_H_20111208_04_3mEOu3s        LAL4126_P_20190206_04\n",
       "13          LAL4126_P_20190206_01        LAL4126_P_20190206_05\n",
       "14          LAL4126_P_20190206_04        LAL4126_P_20190206_06\n",
       "15          LAL4126_P_20190206_05        LAL4126_P_20190206_07\n",
       "16          LAL4126_P_20190206_06                          NaN\n",
       "17          LAL4126_P_20190206_07                          NaN"
      ]
     },
     "execution_count": 4,
     "metadata": {},
     "output_type": "execute_result"
    }
   ],
   "source": [
    "# show the status of a monument and its list of files\n",
    "# on SDS, DANAM, and HeidICON\n",
    "\n",
    "mon_id = 'LAL4126'\n",
    "res = get_info_for_monument(mon_id, heidicon_df, danam_df)\n",
    "\n",
    "display(Markdown(\n",
    "\"\"\"\n",
    "| Monument ID   | {0}  |\n",
    "|---|---|\n",
    "| Number of images in HeidICON  | {1}  |\n",
    "| Number of images in HeidICON without metadata  | {2}  |\n",
    "| Number of images in DANAM  | {3}  |\n",
    "| Number of image without valid caption in DANAM | {4}  |\n",
    "| Number of images in SDS  | {5}  |\n",
    "\n",
    "\"\"\".format( res['mon_id'], res['heidicon_img'], res['heidicon_nometa'], \n",
    "            res['danam_img'], res['danam_nometa'], res['sds_img'] \n",
    ")))\n",
    "res['files']"
   ]
  }
 ],
 "metadata": {
  "kernelspec": {
   "display_name": "Python 3.9.6 64-bit",
   "language": "python",
   "name": "python3"
  },
  "language_info": {
   "codemirror_mode": {
    "name": "ipython",
    "version": 3
   },
   "file_extension": ".py",
   "mimetype": "text/x-python",
   "name": "python",
   "nbconvert_exporter": "python",
   "pygments_lexer": "ipython3",
   "version": "3.9.6"
  },
  "orig_nbformat": 4,
  "vscode": {
   "interpreter": {
    "hash": "11938c6bc6919ae2720b4d5011047913343b08a43b18698fd82dedb0d4417594"
   }
  }
 },
 "nbformat": 4,
 "nbformat_minor": 2
}
