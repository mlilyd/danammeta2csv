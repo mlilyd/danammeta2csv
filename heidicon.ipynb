{
 "cells": [
  {
   "cell_type": "code",
   "execution_count": 1,
   "metadata": {},
   "outputs": [],
   "source": [
    "import os, re\n",
    "#import sys, random\n",
    "import pandas as pd\n",
    "\n",
    "from datetime import datetime as dt"
   ]
  },
  {
   "cell_type": "code",
   "execution_count": 2,
   "metadata": {},
   "outputs": [],
   "source": [
    "root = 'Y:\\Data\\Monuments'\n",
    "mon_files = []\n",
    "for (dir, subdir, files) in os.walk(root):\n",
    "    mon_files += [os.path.join(dir, file) for file in files]"
   ]
  },
  {
   "cell_type": "code",
   "execution_count": 13,
   "metadata": {},
   "outputs": [],
   "source": [
    "mon_files_filtered = list(filter(lambda a: \n",
    "                            \".DS_Store\" not in a and\n",
    "                            \"Thumbs.db\" not in a and\n",
    "                            \"Nifty Logo\" not in a and\n",
    "                            \"Monitoring Material on Fileserver.url\" not in a and\n",
    "                            \".xlsx\" not in a and\n",
    "                            \".docx\" not in a and\n",
    "                            \".doc\" not in a and\n",
    "                            \".MP4\" not in a and\n",
    "                            \"DANAM - \" not in a, \n",
    "                        mon_files))"
   ]
  },
  {
   "cell_type": "code",
   "execution_count": 14,
   "metadata": {},
   "outputs": [
    {
     "data": {
      "text/plain": [
       "30629"
      ]
     },
     "execution_count": 14,
     "metadata": {},
     "output_type": "execute_result"
    }
   ],
   "source": [
    "len(mon_files_filtered)"
   ]
  },
  {
   "cell_type": "code",
   "execution_count": 15,
   "metadata": {},
   "outputs": [],
   "source": [
    "df = pd.DataFrame(mon_files_filtered, columns=[\"path\"])"
   ]
  },
  {
   "cell_type": "code",
   "execution_count": 16,
   "metadata": {},
   "outputs": [],
   "source": [
    "df['filename'] = [i.split(\"\\\\\")[-1] for i in mon_files_filtered]"
   ]
  },
  {
   "cell_type": "code",
   "execution_count": 18,
   "metadata": {},
   "outputs": [
    {
     "data": {
      "text/plain": [
       "'H'"
      ]
     },
     "execution_count": 18,
     "metadata": {},
     "output_type": "execute_result"
    }
   ],
   "source": [
    "\n",
    "date_str = \"20140930\"\n",
    "def valid_date(date_str):\n",
    "    try:\n",
    "        dt.strptime(date_str, '%Y%m%d')\n",
    "        return \"H\"\n",
    "    except ValueError:\n",
    "        pass\n",
    "    try:\n",
    "        dt.strptime(date_str, '%Y%m')\n",
    "        return \"H\"\n",
    "    except ValueError:\n",
    "        pass\n",
    "    try:\n",
    "        dt.strptime(date_str, \"%Y\")\n",
    "        return \"H\"\n",
    "    except ValueError:\n",
    "        return \"H_f\"\n",
    "\n",
    "valid_date(date_str)"
   ]
  },
  {
   "cell_type": "code",
   "execution_count": 19,
   "metadata": {},
   "outputs": [],
   "source": [
    "def img_type(filename):\n",
    "    if \"_P_\" in filename:\n",
    "        return \"P\"\n",
    "    elif \"_I_\" in filename:\n",
    "        return \"I\"\n",
    "    elif \"_H_\" in filename:\n",
    "        date_str = filename.split(\"_H_\")[1].split(\"_\")[0]\n",
    "        date_str = date_str.split(\" \")[0].split(\".\")[0].split(\"-\")[0]\n",
    "        date_str = re.sub(\"[^0-9]\", \"\", date_str)\n",
    "        return valid_date(date_str)\n",
    "    elif \"_D_\" in filename:\n",
    "        return \"D\"\n",
    "    else:\n",
    "        return \"UNK\"\n",
    "\n",
    "df['type'] = [img_type(i) for i in df['filename']]"
   ]
  },
  {
   "cell_type": "code",
   "execution_count": 20,
   "metadata": {},
   "outputs": [
    {
     "data": {
      "text/html": [
       "<div>\n",
       "<style scoped>\n",
       "    .dataframe tbody tr th:only-of-type {\n",
       "        vertical-align: middle;\n",
       "    }\n",
       "\n",
       "    .dataframe tbody tr th {\n",
       "        vertical-align: top;\n",
       "    }\n",
       "\n",
       "    .dataframe thead th {\n",
       "        text-align: right;\n",
       "    }\n",
       "</style>\n",
       "<table border=\"1\" class=\"dataframe\">\n",
       "  <thead>\n",
       "    <tr style=\"text-align: right;\">\n",
       "      <th></th>\n",
       "      <th>path</th>\n",
       "      <th>filename</th>\n",
       "      <th>type</th>\n",
       "    </tr>\n",
       "  </thead>\n",
       "  <tbody>\n",
       "    <tr>\n",
       "      <th>0</th>\n",
       "      <td>Y:\\Data\\Monuments\\KAT0950\\KAT0950_D_2021_floor...</td>\n",
       "      <td>KAT0950_D_2021_floor_plan.pdf</td>\n",
       "      <td>D</td>\n",
       "    </tr>\n",
       "    <tr>\n",
       "      <th>1</th>\n",
       "      <td>Y:\\Data\\Monuments\\KAT0950\\KAT0950_D_2021_locat...</td>\n",
       "      <td>KAT0950_D_2021_location_map.pdf</td>\n",
       "      <td>D</td>\n",
       "    </tr>\n",
       "    <tr>\n",
       "      <th>2</th>\n",
       "      <td>Y:\\Data\\Monuments\\KAT0950\\KAT0950_D_2021_site_...</td>\n",
       "      <td>KAT0950_D_2021_site_plan.pdf</td>\n",
       "      <td>D</td>\n",
       "    </tr>\n",
       "    <tr>\n",
       "      <th>3</th>\n",
       "      <td>Y:\\Data\\Monuments\\KAT0950\\KAT0950_I_20210323_0...</td>\n",
       "      <td>KAT0950_I_20210323_01.CR2</td>\n",
       "      <td>I</td>\n",
       "    </tr>\n",
       "    <tr>\n",
       "      <th>4</th>\n",
       "      <td>Y:\\Data\\Monuments\\KAT0950\\KAT0950_I_20210323_0...</td>\n",
       "      <td>KAT0950_I_20210323_02.CR2</td>\n",
       "      <td>I</td>\n",
       "    </tr>\n",
       "    <tr>\n",
       "      <th>...</th>\n",
       "      <td>...</td>\n",
       "      <td>...</td>\n",
       "      <td>...</td>\n",
       "    </tr>\n",
       "    <tr>\n",
       "      <th>30624</th>\n",
       "      <td>Y:\\Data\\Monuments\\KAT3261\\KAT3261_2021-08-12\\K...</td>\n",
       "      <td>KAT3261_P_20210803_03.png</td>\n",
       "      <td>P</td>\n",
       "    </tr>\n",
       "    <tr>\n",
       "      <th>30625</th>\n",
       "      <td>Y:\\Data\\Monuments\\KAT3261\\KAT3261_2021-08-12\\K...</td>\n",
       "      <td>KAT3261_P_20210803_04.png</td>\n",
       "      <td>P</td>\n",
       "    </tr>\n",
       "    <tr>\n",
       "      <th>30626</th>\n",
       "      <td>Y:\\Data\\Monuments\\KAT3261\\KAT3261_2021-08-12\\K...</td>\n",
       "      <td>KAT3261_P_20210803_05.png</td>\n",
       "      <td>P</td>\n",
       "    </tr>\n",
       "    <tr>\n",
       "      <th>30627</th>\n",
       "      <td>Y:\\Data\\Monuments\\KAT3261\\KAT3261_2021-08-12\\K...</td>\n",
       "      <td>KAT3261_P_20210803_06.png</td>\n",
       "      <td>P</td>\n",
       "    </tr>\n",
       "    <tr>\n",
       "      <th>30628</th>\n",
       "      <td>Y:\\Data\\Monuments\\KAT3261\\KAT3261_2021-08-12\\K...</td>\n",
       "      <td>KAT3261_P_20210803_07.png</td>\n",
       "      <td>P</td>\n",
       "    </tr>\n",
       "  </tbody>\n",
       "</table>\n",
       "<p>30629 rows × 3 columns</p>\n",
       "</div>"
      ],
      "text/plain": [
       "                                                    path  \\\n",
       "0      Y:\\Data\\Monuments\\KAT0950\\KAT0950_D_2021_floor...   \n",
       "1      Y:\\Data\\Monuments\\KAT0950\\KAT0950_D_2021_locat...   \n",
       "2      Y:\\Data\\Monuments\\KAT0950\\KAT0950_D_2021_site_...   \n",
       "3      Y:\\Data\\Monuments\\KAT0950\\KAT0950_I_20210323_0...   \n",
       "4      Y:\\Data\\Monuments\\KAT0950\\KAT0950_I_20210323_0...   \n",
       "...                                                  ...   \n",
       "30624  Y:\\Data\\Monuments\\KAT3261\\KAT3261_2021-08-12\\K...   \n",
       "30625  Y:\\Data\\Monuments\\KAT3261\\KAT3261_2021-08-12\\K...   \n",
       "30626  Y:\\Data\\Monuments\\KAT3261\\KAT3261_2021-08-12\\K...   \n",
       "30627  Y:\\Data\\Monuments\\KAT3261\\KAT3261_2021-08-12\\K...   \n",
       "30628  Y:\\Data\\Monuments\\KAT3261\\KAT3261_2021-08-12\\K...   \n",
       "\n",
       "                              filename type  \n",
       "0        KAT0950_D_2021_floor_plan.pdf    D  \n",
       "1      KAT0950_D_2021_location_map.pdf    D  \n",
       "2         KAT0950_D_2021_site_plan.pdf    D  \n",
       "3            KAT0950_I_20210323_01.CR2    I  \n",
       "4            KAT0950_I_20210323_02.CR2    I  \n",
       "...                                ...  ...  \n",
       "30624        KAT3261_P_20210803_03.png    P  \n",
       "30625        KAT3261_P_20210803_04.png    P  \n",
       "30626        KAT3261_P_20210803_05.png    P  \n",
       "30627        KAT3261_P_20210803_06.png    P  \n",
       "30628        KAT3261_P_20210803_07.png    P  \n",
       "\n",
       "[30629 rows x 3 columns]"
      ]
     },
     "execution_count": 20,
     "metadata": {},
     "output_type": "execute_result"
    }
   ],
   "source": [
    "df"
   ]
  },
  {
   "cell_type": "code",
   "execution_count": 41,
   "metadata": {},
   "outputs": [
    {
     "data": {
      "text/html": [
       "<div>\n",
       "<style scoped>\n",
       "    .dataframe tbody tr th:only-of-type {\n",
       "        vertical-align: middle;\n",
       "    }\n",
       "\n",
       "    .dataframe tbody tr th {\n",
       "        vertical-align: top;\n",
       "    }\n",
       "\n",
       "    .dataframe thead th {\n",
       "        text-align: right;\n",
       "    }\n",
       "</style>\n",
       "<table border=\"1\" class=\"dataframe\">\n",
       "  <thead>\n",
       "    <tr style=\"text-align: right;\">\n",
       "      <th></th>\n",
       "      <th>path</th>\n",
       "      <th>filename</th>\n",
       "      <th>type</th>\n",
       "    </tr>\n",
       "  </thead>\n",
       "  <tbody>\n",
       "    <tr>\n",
       "      <th>89</th>\n",
       "      <td>Y:\\Data\\Monuments\\DLK0251\\DLK0251_H_20140930_0...</td>\n",
       "      <td>DLK0251_H_20140930_01.JPG</td>\n",
       "      <td>H</td>\n",
       "    </tr>\n",
       "    <tr>\n",
       "      <th>90</th>\n",
       "      <td>Y:\\Data\\Monuments\\DLK0251\\DLK0251_H_20140930_0...</td>\n",
       "      <td>DLK0251_H_20140930_02.JPG</td>\n",
       "      <td>H</td>\n",
       "    </tr>\n",
       "    <tr>\n",
       "      <th>91</th>\n",
       "      <td>Y:\\Data\\Monuments\\DLK0251\\DLK0251_H_20140930_0...</td>\n",
       "      <td>DLK0251_H_20140930_03.JPG</td>\n",
       "      <td>H</td>\n",
       "    </tr>\n",
       "    <tr>\n",
       "      <th>185</th>\n",
       "      <td>Y:\\Data\\Monuments\\MUG0160\\MUG0160_H_20140906_0...</td>\n",
       "      <td>MUG0160_H_20140906_01.JPG</td>\n",
       "      <td>H</td>\n",
       "    </tr>\n",
       "    <tr>\n",
       "      <th>186</th>\n",
       "      <td>Y:\\Data\\Monuments\\MUG0160\\MUG0160_H_20140906_0...</td>\n",
       "      <td>MUG0160_H_20140906_02.JPG</td>\n",
       "      <td>H</td>\n",
       "    </tr>\n",
       "    <tr>\n",
       "      <th>...</th>\n",
       "      <td>...</td>\n",
       "      <td>...</td>\n",
       "      <td>...</td>\n",
       "    </tr>\n",
       "    <tr>\n",
       "      <th>30505</th>\n",
       "      <td>Y:\\Data\\Monuments\\LAL0940\\historical photograp...</td>\n",
       "      <td>LAL0940_H_1985.jpg</td>\n",
       "      <td>H</td>\n",
       "    </tr>\n",
       "    <tr>\n",
       "      <th>30506</th>\n",
       "      <td>Y:\\Data\\Monuments\\LAL0940\\historical photograp...</td>\n",
       "      <td>LAL0940_H_1975.jpg</td>\n",
       "      <td>H</td>\n",
       "    </tr>\n",
       "    <tr>\n",
       "      <th>30507</th>\n",
       "      <td>Y:\\Data\\Monuments\\LAL0940\\historical photograp...</td>\n",
       "      <td>LAL0940_H_1985.tif</td>\n",
       "      <td>H</td>\n",
       "    </tr>\n",
       "    <tr>\n",
       "      <th>30549</th>\n",
       "      <td>Y:\\Data\\Monuments\\LAL0940\\raw\\LAL0940_H_1975.jpg</td>\n",
       "      <td>LAL0940_H_1975.jpg</td>\n",
       "      <td>H</td>\n",
       "    </tr>\n",
       "    <tr>\n",
       "      <th>30550</th>\n",
       "      <td>Y:\\Data\\Monuments\\LAL0940\\raw\\LAL0940_H_1985.tif</td>\n",
       "      <td>LAL0940_H_1985.tif</td>\n",
       "      <td>H</td>\n",
       "    </tr>\n",
       "  </tbody>\n",
       "</table>\n",
       "<p>1986 rows × 3 columns</p>\n",
       "</div>"
      ],
      "text/plain": [
       "                                                    path  \\\n",
       "89     Y:\\Data\\Monuments\\DLK0251\\DLK0251_H_20140930_0...   \n",
       "90     Y:\\Data\\Monuments\\DLK0251\\DLK0251_H_20140930_0...   \n",
       "91     Y:\\Data\\Monuments\\DLK0251\\DLK0251_H_20140930_0...   \n",
       "185    Y:\\Data\\Monuments\\MUG0160\\MUG0160_H_20140906_0...   \n",
       "186    Y:\\Data\\Monuments\\MUG0160\\MUG0160_H_20140906_0...   \n",
       "...                                                  ...   \n",
       "30505  Y:\\Data\\Monuments\\LAL0940\\historical photograp...   \n",
       "30506  Y:\\Data\\Monuments\\LAL0940\\historical photograp...   \n",
       "30507  Y:\\Data\\Monuments\\LAL0940\\historical photograp...   \n",
       "30549   Y:\\Data\\Monuments\\LAL0940\\raw\\LAL0940_H_1975.jpg   \n",
       "30550   Y:\\Data\\Monuments\\LAL0940\\raw\\LAL0940_H_1985.tif   \n",
       "\n",
       "                        filename type  \n",
       "89     DLK0251_H_20140930_01.JPG    H  \n",
       "90     DLK0251_H_20140930_02.JPG    H  \n",
       "91     DLK0251_H_20140930_03.JPG    H  \n",
       "185    MUG0160_H_20140906_01.JPG    H  \n",
       "186    MUG0160_H_20140906_02.JPG    H  \n",
       "...                          ...  ...  \n",
       "30505         LAL0940_H_1985.jpg    H  \n",
       "30506         LAL0940_H_1975.jpg    H  \n",
       "30507         LAL0940_H_1985.tif    H  \n",
       "30549         LAL0940_H_1975.jpg    H  \n",
       "30550         LAL0940_H_1985.tif    H  \n",
       "\n",
       "[1986 rows x 3 columns]"
      ]
     },
     "execution_count": 41,
     "metadata": {},
     "output_type": "execute_result"
    }
   ],
   "source": [
    "df[df['type']=='H']"
   ]
  },
  {
   "cell_type": "code",
   "execution_count": 27,
   "metadata": {},
   "outputs": [],
   "source": [
    "incorrect_files = list(df.loc[df['type'].str.contains(\"UNK\")]['filename'])\n",
    "with open(\"incorrect_files.txt\", \"a\",  encoding=\"utf-8\") as f:\n",
    "    for filename in incorrect_files:\n",
    "        f.write(filename+\"\\n\")"
   ]
  }
 ],
 "metadata": {
  "interpreter": {
   "hash": "ac59ebe37160ed0dfa835113d9b8498d9f09ceb179beaac4002f036b9467c963"
  },
  "kernelspec": {
   "display_name": "Python 3.9.6 64-bit",
   "language": "python",
   "name": "python3"
  },
  "language_info": {
   "codemirror_mode": {
    "name": "ipython",
    "version": 3
   },
   "file_extension": ".py",
   "mimetype": "text/x-python",
   "name": "python",
   "nbconvert_exporter": "python",
   "pygments_lexer": "ipython3",
   "version": "3.8.10"
  },
  "orig_nbformat": 4
 },
 "nbformat": 4,
 "nbformat_minor": 2
}
