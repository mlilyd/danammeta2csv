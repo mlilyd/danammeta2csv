{
 "cells": [
  {
   "cell_type": "markdown",
   "metadata": {},
   "source": [
    "# DANAM Metadata Preparation for Transfer to HeidICON\n",
    "\n",
    "This notebook is used along with the scripts clean_json and write_csv to query and analyze DANAM's image metadata quickly.\n",
    "Queries is done via Pandas Dataframe and DataFrame can be checked using VSCode's variable viewer. \n"
   ]
  },
  {
   "cell_type": "code",
   "execution_count": 1,
   "metadata": {},
   "outputs": [],
   "source": [
    "import csv\n",
    "import pandas as pd\n",
    "\n",
    "from datetime import datetime\n",
    "from scripts.clean_json import clean_json\n",
    "from scripts import metadata_export as me\n",
    "\n",
    "import warnings\n",
    "warnings.filterwarnings(\"ignore\")"
   ]
  },
  {
   "cell_type": "markdown",
   "metadata": {},
   "source": [
    "## Read DANAM json export\n",
    "Always replace with the latest export"
   ]
  },
  {
   "cell_type": "code",
   "execution_count": 2,
   "metadata": {},
   "outputs": [],
   "source": [
    "# read DANAM json export\n",
    "danam_export = \"json\\DANAM\\Monument_2022-10-24_02-12-03.json\"\n",
    "danam_images = clean_json(danam_export)\n",
    "danam_df = pd.DataFrame(danam_images)"
   ]
  },
  {
   "cell_type": "markdown",
   "metadata": {},
   "source": [
    "Reset fix files and boolean values from last week\n",
    "\n",
    "**WARNING: running this cell will delete everything in the fix files!**"
   ]
  },
  {
   "cell_type": "code",
   "execution_count": 3,
   "metadata": {},
   "outputs": [],
   "source": [
    "ready_all,ready_images,ready_maps,ready_historical,ready_recent = me.reset(True)"
   ]
  },
  {
   "cell_type": "markdown",
   "metadata": {},
   "source": [
    "## Preparing Metadata Uploads"
   ]
  },
  {
   "cell_type": "code",
   "execution_count": 4,
   "metadata": {},
   "outputs": [
    {
     "name": "stdout",
     "output_type": "stream",
     "text": [
      "ALL: PLEASE CHECK USING VARIABLE VIEW\n",
      "MAPS: PLEASE CHECK USING VARIABLE VIEW\n",
      "HISTORICAL: PLEASE CHECK USING VARIABLE VIEW\n",
      "ONLY PHOTOGRAPHS: PLEASE CHECK USING VARIABLE VIEW\n",
      "RECENT CHANGES: PLEASE CHECK USING VARIABLE VIEW\n"
     ]
    }
   ],
   "source": [
    "year,month,date = (2022,5,1)\n",
    "\n",
    "all,historical,images,maps,recent = me.prepare_metadata_from_mon(danam_df,\n",
    "                    year,month,date,\n",
    "                    ready_all,ready_maps,\n",
    "                    ready_historical,\n",
    "                    ready_images,ready_recent)"
   ]
  },
  {
   "cell_type": "code",
   "execution_count": 5,
   "metadata": {},
   "outputs": [],
   "source": [
    "ready_all = True\n",
    "ready_images = True\n",
    "ready_maps = True\n",
    "ready_historical = True \n",
    "ready_recent = True"
   ]
  },
  {
   "cell_type": "code",
   "execution_count": 8,
   "metadata": {},
   "outputs": [
    {
     "name": "stdout",
     "output_type": "stream",
     "text": [
      "ALL: READY TO UPLOAD\n",
      "MAPS: READY TO UPLOAD\n",
      "HISTORICAL: READY TO UPLOAD\n",
      "ONLY PHOTOGRAPHS: READY TO UPLOAD\n",
      "RECENT CHANGES: READY TO UPLOAD\n"
     ]
    }
   ],
   "source": [
    "all,historical,images,maps,recent = me.prepare_metadata_from_mon(danam_df,\n",
    "                    year,month,date,\n",
    "                    ready_all,ready_maps,\n",
    "                    ready_historical,\n",
    "                    ready_images,ready_recent)"
   ]
  },
  {
   "cell_type": "markdown",
   "metadata": {},
   "source": [
    "## Exporting Results to CSV for Weekly Metadata Transfer"
   ]
  },
  {
   "cell_type": "code",
   "execution_count": 10,
   "metadata": {},
   "outputs": [],
   "source": [
    "# Writing to CSV \n",
    "cols = [\n",
    "        'filename', 'caption', 'date1', 'date2', 'date', 'date3', 'agent', 'role', 'agent2', 'role2',\n",
    "        'copyright', 'source', 'empty_column', 'notes', 'mon_id', 'class_code', 'classification', 'agent3', \n",
    "        'date_scan', 'license', 'url', 'rights_text', 'heidata', 'heidoc'\n",
    "        ]\n",
    "\n",
    "all_upload = pd.concat([all,historical,images,maps,recent])\n",
    "all_upload.to_csv(\"csv/image_metadata_.csv\", columns=cols, header=True, sep=';', index=False, quotechar = \"\\\"\", quoting=csv.QUOTE_ALL)\n"
   ]
  }
 ],
 "metadata": {
  "kernelspec": {
   "display_name": "Python 3.9.7 64-bit",
   "language": "python",
   "name": "python3"
  },
  "language_info": {
   "codemirror_mode": {
    "name": "ipython",
    "version": 3
   },
   "file_extension": ".py",
   "mimetype": "text/x-python",
   "name": "python",
   "nbconvert_exporter": "python",
   "pygments_lexer": "ipython3",
   "version": "3.9.7"
  },
  "vscode": {
   "interpreter": {
    "hash": "001b5943bb8859b41456916c53e3ef6d303e5ecfed20b62804357ddfa4bea080"
   }
  }
 },
 "nbformat": 4,
 "nbformat_minor": 4
}
