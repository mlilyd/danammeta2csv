{
 "cells": [
  {
   "cell_type": "code",
   "execution_count": null,
   "metadata": {},
   "outputs": [],
   "source": [
    "import json, csv\n",
    "import codecs\n",
    "import random\n",
    "import pandas as pd\n",
    "pd.set_option('display.max_colwidth', None)\n",
    "pd.set_option('display.max_rows', 100)\n",
    "\n",
    "from datetime import datetime\n",
    "\n",
    "\n",
    "from clean_json import read_danam_export, get_caption, metadata_from_json, metadata_from_caption, valid_caption, replace_w_json\n",
    "from write_csv import list_from_txt\n"
   ]
  },
  {
   "cell_type": "code",
   "execution_count": null,
   "metadata": {},
   "outputs": [],
   "source": [
    "# read DANAM json export\n",
    "danam_export = \"json\\DANAM\\Monument_2021-10-18_21-59-44.json\"\n",
    "danam = json.load(codecs.open(danam_export, 'r', 'utf-8'))\n",
    "danam = danam['business_data']['resources']\n",
    "\n"
   ]
  },
  {
   "cell_type": "code",
   "execution_count": null,
   "metadata": {},
   "outputs": [],
   "source": [
    "# collect only danam images\n",
    "danam_images = read_danam_export(danam_export)\n",
    "\n",
    "# cleaning and geting metadata\n",
    "for image in danam_images:\n",
    "    image['danam_caption'] = get_caption(image).replace(\"\\n\", '')\n",
    "    \n",
    "    to_delete = \"If not otherwise stated, all images and texts in this monument folder are published under Creative Commons Attribution 4.0 License (CC BY-SA 4.0), and the copyright lies with NHDP. All visuals of this monument folder and more are (or will be) also stored in heidICON, the object and multimedia database of Heidelberg University. (Type the ID-number or key words in the first line and click the search field.) You will also find the initial report there. The latest report will always be available in DANAM (this page)\"\n",
    "    image['danam_caption'] = image['danam_caption'].replace(to_delete, \"\")\n",
    "    image['empty_column'] = \"\"   \n",
    "    metadata_from_json(image, image)\n",
    "\n",
    "    if image['filename'] == 'KIR0067_I_003_20210907_01':\n",
    "        image['filename'] = image['filename'].replace(\"7_01\", \"7\")\n",
    "        image['filename_danam'] = image['filename']\n",
    "\n",
    "    caption = image['danam_caption']\n",
    "    \n",
    "    fixes = json.load(open('json/dict/fixes.json'))[0]\n",
    "    caption = replace_w_json(caption, fixes)\n",
    "    image['validCaption'] = valid_caption(caption)\n",
    "    #image['old_validCaption'] = valid_caption(caption)\n",
    "\n",
    "    parts = caption.split(';')\n",
    "\n",
    "    if image['validCaption'] and len(parts)>=3:\n",
    "        metadata_from_caption(parts, image)\n",
    "    else:\n",
    "        image['validCaption'] = False     \n",
    "  \n",
    "        \n",
    "    image['lastModified'] = image['imagedata'][0]['lastModified']\n",
    "    timestamp = int(image['lastModified'])\n",
    "    image['lastModified'] = datetime.fromtimestamp(timestamp/1000)\n",
    "    \n",
    "    try:\n",
    "        del image['imagedata']\n",
    "        del image['editorials']\n",
    "        del image['mon_ids']\n",
    "    except: \n",
    "        pass\n",
    "    \n",
    "    dels = [key for key in image.keys() if image[key]==None]\n",
    "    for i in dels:\n",
    "        del image[i]\n",
    "\n",
    "danam_df = pd.DataFrame(danam_images)"
   ]
  },
  {
   "cell_type": "code",
   "execution_count": null,
   "metadata": {},
   "outputs": [],
   "source": [
    "img = danam_images[random.randint(0,len(danam_images))]\n",
    "img"
   ]
  },
  {
   "cell_type": "code",
   "execution_count": null,
   "metadata": {},
   "outputs": [],
   "source": [
    "valid_captions = danam_df.loc[danam_df['validCaption']].shape[0]\n",
    "all_images = danam_df.shape[0]\n",
    "\n",
    "print(\"Percentage of images with valid captions: {}\".format(valid_captions/all_images))\n",
    "print(\"Percentage of images with invalid captions: {}\".format(1-(valid_captions/all_images)))\n"
   ]
  },
  {
   "cell_type": "code",
   "execution_count": null,
   "metadata": {},
   "outputs": [],
   "source": [
    "# query through metadata table, check if monument is complete \n",
    "mon = danam_df.loc[danam_df['mon_id']=='BKT0100']\n",
    "#mon = mon.loc[mon['danam_caption'].str.contains(\"struts\")]\n",
    "#mon = mon.loc[mon['validCaption']==False]\n",
    "print(mon.shape[0])\n",
    "mon[[ 'validCaption', 'danam_caption', 'caption', 'date1', 'date2', 'date', 'date3', 'agent', 'role', 'agent2', 'role2','source', 'agent3', 'date_scan',]].sort_values('date').head(10)"
   ]
  },
  {
   "cell_type": "code",
   "execution_count": null,
   "metadata": {},
   "outputs": [],
   "source": [
    "danam_df.iloc[17367]"
   ]
  },
  {
   "cell_type": "code",
   "execution_count": null,
   "metadata": {},
   "outputs": [],
   "source": [
    "print(mon[['filename', 'validCaption', 'danam_caption']\n",
    "].sort_values('filename', ascending=True)['filename'].to_csv(sep=' ', index=False))"
   ]
  },
  {
   "cell_type": "code",
   "execution_count": null,
   "metadata": {},
   "outputs": [],
   "source": [
    "# Filter metadata according to mon_id and valid caption\n",
    "mon_ids = list_from_txt('log/id_monument.txt')\n",
    "\n",
    "to_upload = danam_df.loc[danam_df['mon_id'].isin(mon_ids)]\n",
    "to_upload = to_upload.loc[to_upload['validCaption']]"
   ]
  },
  {
   "cell_type": "code",
   "execution_count": null,
   "metadata": {},
   "outputs": [],
   "source": [
    "# Writing to CSV \n",
    "cols = [\n",
    "        'filename', 'caption', 'date1', 'date2', 'date', 'date3', 'agent', 'role', 'agent2', 'role2',\n",
    "        'copyright', 'source', 'empty_column', 'notes', 'mon_id', 'class_code', 'classification', 'agent3', 'date_scan',\n",
    "        'license', 'url', 'rights_text', 'heidata', 'heidoc'\n",
    "        ]\n",
    "\n",
    "\n",
    "to_upload.to_csv(\"image_metadata.csv\", columns=cols, header=False, sep=';', index=False, quotechar = \"\\\"\", quoting=csv.QUOTE_ALL)"
   ]
  }
 ],
 "metadata": {
  "interpreter": {
   "hash": "1150323f83a369a18831152bc7cb112c5104b40b4bca1f7e86eab23b1a1229a6"
  },
  "kernelspec": {
   "display_name": "Python 3 (ipykernel)",
   "language": "python",
   "name": "python3"
  },
  "language_info": {
   "codemirror_mode": {
    "name": "ipython",
    "version": 3
   },
   "file_extension": ".py",
   "mimetype": "text/x-python",
   "name": "python",
   "nbconvert_exporter": "python",
   "pygments_lexer": "ipython3",
   "version": "3.9.7"
  }
 },
 "nbformat": 4,
 "nbformat_minor": 2
}
