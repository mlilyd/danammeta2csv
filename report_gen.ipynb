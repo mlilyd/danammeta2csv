{
 "cells": [
  {
   "cell_type": "markdown",
   "metadata": {},
   "source": [
    "# DANAM Report Generation\n",
    "This notebook starts an automated instance of Chrome to download PDFs from DANAM's monument pages.\n",
    "\n",
    "This requires the Python library `selenium` and Google Chrome to be installed"
   ]
  },
  {
   "cell_type": "code",
   "execution_count": 1,
   "metadata": {},
   "outputs": [],
   "source": [
    "import json, csv\n",
    "import codecs\n",
    "import pandas as pd\n",
    "pd.set_option('display.max_colwidth', None)\n",
    "pd.set_option('display.max_rows', 100)\n",
    "\n",
    "from scripts.clean_json import replace_w_json\n",
    "from scripts.write_csv import list_from_txt\n",
    "from scripts.create_report import get_reports, chromedriver_init"
   ]
  },
  {
   "cell_type": "markdown",
   "metadata": {},
   "source": [
    "Some function and constant definitions"
   ]
  },
  {
   "cell_type": "code",
   "execution_count": 2,
   "metadata": {},
   "outputs": [],
   "source": [
    "heidicon_id = json.load(open(\"json/dict/heidicon_id.json\"))[0]\n",
    "roles = {\n",
    "    \"Editor\": \"Editor\",\n",
    "    \"Description\": \"Autor\",\n",
    "    \"Photography\": \"Fotograf\",\n",
    "    \"Drawings\": \"Zeichner\",\n",
    "    \"Historical\": \"Autor\"\n",
    "}"
   ]
  },
  {
   "cell_type": "code",
   "execution_count": 3,
   "metadata": {},
   "outputs": [],
   "source": [
    "def get_role(key):\n",
    "    for role_key in roles.keys():\n",
    "        if role_key in key:\n",
    "            return role_key, roles[role_key]\n",
    "    return (\"Editor\", \"Editor\")\n",
    "\n",
    "def get_editors(text):\n",
    "    text = replace_w_json(text, heidicon_id, strip=True)\n",
    "    split = [i.replace(\"<p>\", \"\").replace(\"</p>\", \"\").replace(\"&nbsp;\", \" \").strip()  for i in text.split(\"\\n\\n\")]\n",
    "    editors = {}\n",
    "    for item in split:\n",
    "        if len(item) == 0:\n",
    "            continue\n",
    "        t = item.split(\": \")\n",
    "        if len(t) < 2:\n",
    "            continue\n",
    "        \n",
    "        field = t[0]\n",
    "        names = t[1]\n",
    "        editors[field] = names\n",
    "    return editors\n",
    "\n",
    "def separate_editors(editors, mon):\n",
    "    for role in editors.keys():\n",
    "        r = get_role(role)\n",
    "        agents = editors[role].split(\",\")\n",
    "        for i in range(len(agents)):\n",
    "            mon['{}_agent_{}'.format(r[0],i)] = agents[i].strip()\n",
    "            mon['{}_role_{}'.format(r[0],i)] = r[1]\n",
    "\n",
    "def fill_report_info(mon):\n",
    "    mon['filename'] = \"DANAM_report_{}.pdf\".format(mon['mon_id'])\n",
    "    mon['title'] = \"Report {}\".format(mon['mon_id'])\n",
    "    mon['classification_gnd'] = \"4177815-7\"\n",
    "    mon['rights_owner'] = \"Nepal Heritage Documentation Project\"\n",
    "    mon['license'] = \"CC BY-SA 4.0\"\n",
    "    mon['empty_col'] = \"\"\n",
    "\n"
   ]
  },
  {
   "cell_type": "code",
   "execution_count": 4,
   "metadata": {},
   "outputs": [],
   "source": [
    "def clean_for_report(danam):\n",
    "    for mon in danam:\n",
    "        mon['danam_url'] = mon['resourceinstance']['resourceinstanceid']\n",
    "        mon_ids = [tile[\"data\"][\"28294784-9323-11e9-bf23-0242ac120006\"] for tile in mon['tiles'] if '28294784-9323-11e9-bf23-0242ac120006' in tile['data'].keys()]\n",
    "\n",
    "        if len(mon_ids) > 0:\n",
    "            mon['mon_id'] = mon_ids[0]\n",
    "        else:\n",
    "            mon['mon_id'] = \"NO_ID\"\n",
    "        \n",
    "        fill_report_info(mon)\n",
    "\n",
    "        editorials= [tile[\"data\"][\"66fd9c70-ce1b-11e9-b993-0242ac140002\"] for tile in mon['tiles'] if '66fd9c70-ce1b-11e9-b993-0242ac140002' in tile['data'].keys()]\n",
    "        mon['editorial_text'] = editorials\n",
    "        if len(editorials) > 0:\n",
    "            editors = get_editors(editorials[0])\n",
    "            separate_editors(editors, mon)\n",
    "        \n",
    "        fill_report_info(mon)\n",
    "\n",
    "        if \"tiles\" in mon.keys():\n",
    "            del mon['tiles']\n",
    "        \n",
    "        if \"resourceinstance\" in mon.keys():\n",
    "            del mon[\"resourceinstance\"]\n"
   ]
  },
  {
   "cell_type": "markdown",
   "metadata": {},
   "source": [
    "Start of script"
   ]
  },
  {
   "cell_type": "code",
   "execution_count": 5,
   "metadata": {},
   "outputs": [],
   "source": [
    "# read DANAM json export\n",
    "danam_export = \"json\\DANAM\\Monument_2022-11-07_01-16-16.json\"\n",
    "danam = json.load(codecs.open(danam_export, 'r', 'utf-8'))\n",
    "danam = danam['business_data']['resources']\n",
    "\n",
    "clean_for_report(danam)\n",
    "danam_df = pd.DataFrame(danam)"
   ]
  },
  {
   "cell_type": "code",
   "execution_count": 6,
   "metadata": {},
   "outputs": [],
   "source": [
    "#manual editing, just in case\n",
    "danam_df.loc[danam_df['danam_url']=='83d25607-b6cf-4031-bb2a-36e1532ced6a', 'mon_id'] = 'KIR4028'\n",
    "danam_df.loc[danam_df['danam_url']=='83d25607-b6cf-4031-bb2a-36e1532ced6a', 'filename'] = 'DANAM_report_KIR4028'\n",
    "danam_df.loc[danam_df['danam_url']=='83d25607-b6cf-4031-bb2a-36e1532ced6a', 'title'] = 'Report KIR4028'"
   ]
  },
  {
   "cell_type": "code",
   "execution_count": 7,
   "metadata": {},
   "outputs": [],
   "source": [
    "# select monuments that we want to create reports for\n",
    "mon_ids = list_from_txt('mon/upload_report.mon')\n",
    "to_upload = danam_df.loc[danam_df['mon_id'].isin(mon_ids)]\n",
    "to_upload = to_upload.fillna(\"NaN\")"
   ]
  },
  {
   "cell_type": "markdown",
   "metadata": {},
   "source": [
    "Start an automated Chrome instance. In the case that this cell produces an error, it might be because the Chrome version does not match the chrome driver. Please make sure that the correct version of the chrome driver is in this folder. \n",
    "\n",
    "You can download the chromedriver at https://chromedriver.chromium.org/downloads "
   ]
  },
  {
   "cell_type": "code",
   "execution_count": 8,
   "metadata": {},
   "outputs": [
    {
     "name": "stdout",
     "output_type": "stream",
     "text": [
      "NHDP - loaded.\n",
      "DANAM_report_BAL0004.pdf downloaded.\n"
     ]
    }
   ],
   "source": [
    "path_to_chromedriver = \"chromedriver\"\n",
    "to_create_reports = to_upload[['danam_url', 'mon_id']].iterrows()\n",
    "driver = chromedriver_init(path_to_chromedriver)\n",
    "get_reports(to_create_reports, driver)\n"
   ]
  },
  {
   "cell_type": "code",
   "execution_count": null,
   "metadata": {},
   "outputs": [],
   "source": [
    "# prepare csv for metadata upload\n",
    "cols = danam_df.columns\n",
    "\n",
    "agents_roles = [i for i in cols if i[0].isupper()]\n",
    "cols = ['filename', 'title', 'classification_gnd', 'empty_col', 'mon_id', 'rights_owner', 'license']\n",
    "cols += agents_roles\n",
    "\n",
    "csv_str = to_upload.to_csv(columns=cols, header=False, sep=';', index=False, quotechar = \"\\\"\", quoting=csv.QUOTE_ALL)\n",
    "csv_str = csv_str.replace(\"\\\"NaN\\\";\", \"\").replace(\"\\\"NaN\\\"\", \"\")\n",
    "\n",
    "file = codecs.open(\"csv/report_metadata.csv\", 'w', 'utf-8')\n",
    "file.write(csv_str)\n",
    "file.close()"
   ]
  }
 ],
 "metadata": {
  "kernelspec": {
   "display_name": "Python 3.9.7 64-bit",
   "language": "python",
   "name": "python3"
  },
  "language_info": {
   "codemirror_mode": {
    "name": "ipython",
    "version": 3
   },
   "file_extension": ".py",
   "mimetype": "text/x-python",
   "name": "python",
   "nbconvert_exporter": "python",
   "pygments_lexer": "ipython3",
   "version": "3.9.7"
  },
  "orig_nbformat": 4,
  "vscode": {
   "interpreter": {
    "hash": "001b5943bb8859b41456916c53e3ef6d303e5ecfed20b62804357ddfa4bea080"
   }
  }
 },
 "nbformat": 4,
 "nbformat_minor": 2
}
