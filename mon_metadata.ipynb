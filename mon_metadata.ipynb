{
 "cells": [
  {
   "cell_type": "code",
   "execution_count": 1,
   "metadata": {},
   "outputs": [],
   "source": [
    "import json, csv\n",
    "import codecs\n",
    "import pandas as pd\n",
    "pd.set_option('display.max_colwidth', None)\n",
    "pd.set_option('display.max_rows', 100)\n",
    "\n",
    "from clean_json import replace_w_json\n",
    "from write_csv import list_from_txt\n",
    "from create_report import get_reports, chromedriver_init"
   ]
  },
  {
   "cell_type": "code",
   "execution_count": 2,
   "metadata": {},
   "outputs": [],
   "source": [
    "heidicon_id = json.load(open(\"json/dict/heidicon_id.json\"))[0]\n",
    "roles = {\n",
    "    \"Editor\": \"Editor\",\n",
    "    \"Description\": \"Autor\",\n",
    "    \"Photography\": \"Fotograf\",\n",
    "    \"Drawings\": \"Zeichner\",\n",
    "    \"Historical\": \"Autor\"\n",
    "}"
   ]
  },
  {
   "cell_type": "code",
   "execution_count": 3,
   "metadata": {},
   "outputs": [],
   "source": [
    "def get_role(key):\n",
    "    for role_key in roles.keys():\n",
    "        if role_key in key:\n",
    "            return role_key, roles[role_key]\n",
    "    return (\"Editor\", \"Editor\")\n",
    "\n",
    "def get_editors(text):\n",
    "    text = replace_w_json(text, heidicon_id, strip=True)\n",
    "    split = [i.replace(\"<p>\", \"\").replace(\"</p>\", \"\").replace(\"&nbsp;\", \" \").strip()  for i in text.split(\"\\n\\n\")]\n",
    "    editors = {}\n",
    "    for item in split:\n",
    "        if len(item) == 0:\n",
    "            continue\n",
    "        t = item.split(\": \")\n",
    "        if len(t) < 2:\n",
    "            continue\n",
    "        \n",
    "        field = t[0]\n",
    "        names = t[1]\n",
    "        editors[field] = names\n",
    "    return editors\n",
    "\n",
    "def separate_editors(editors, mon):\n",
    "    for role in editors.keys():\n",
    "        r = get_role(role)\n",
    "        agents = editors[role].split(\",\")\n",
    "        for i in range(len(agents)):\n",
    "            mon['{}_agent_{}'.format(r[0],i)] = agents[i].strip()\n",
    "            mon['{}_role_{}'.format(r[0],i)] = r[1]\n",
    "\n",
    "def fill_report_info(mon):\n",
    "    mon['filename'] = \"DANAM - {}.pdf\".format(mon['mon_id'])\n",
    "    mon['title'] = \"Report {}\".format(mon['mon_id'])\n",
    "    mon['classification_gnd'] = \"4177815-7\"\n",
    "    mon['rights_owner'] = \"Nepal Heritage Documentation Project\"\n",
    "    mon['license'] = \"CC BY-SA 4.0\"\n",
    "    mon['empty_col'] = \"\"\n",
    "\n"
   ]
  },
  {
   "cell_type": "code",
   "execution_count": 4,
   "metadata": {},
   "outputs": [],
   "source": [
    "def clean_for_report(danam):\n",
    "    for mon in danam:\n",
    "        mon['danam_url'] = mon['resourceinstance']['resourceinstanceid']\n",
    "        mon_ids = [tile[\"data\"][\"28294784-9323-11e9-bf23-0242ac120006\"] for tile in mon['tiles'] if '28294784-9323-11e9-bf23-0242ac120006' in tile['data'].keys()]\n",
    "\n",
    "        if len(mon_ids) > 0:\n",
    "            mon['mon_id'] = mon_ids[0]\n",
    "        else:\n",
    "            mon['mon_id'] = \"NO_ID\"\n",
    "        \n",
    "        fill_report_info(mon)\n",
    "\n",
    "        editorials= [tile[\"data\"][\"66fd9c70-ce1b-11e9-b993-0242ac140002\"] for tile in mon['tiles'] if '66fd9c70-ce1b-11e9-b993-0242ac140002' in tile['data'].keys()]\n",
    "        mon['editorial_text'] = editorials\n",
    "        if len(editorials) > 0:\n",
    "            editors = get_editors(editorials[0])\n",
    "            separate_editors(editors, mon)\n",
    "        \n",
    "        fill_report_info(mon)\n",
    "\n",
    "        if \"tiles\" in mon.keys():\n",
    "            del mon['tiles']\n",
    "        \n",
    "        if \"resourceinstance\" in mon.keys():\n",
    "            del mon[\"resourceinstance\"]\n"
   ]
  },
  {
   "cell_type": "code",
   "execution_count": 5,
   "metadata": {},
   "outputs": [],
   "source": [
    "# read DANAM json export\n",
    "danam_export = \"json\\DANAM\\Monument_2021-11-11_00-23-56.json\"\n",
    "danam = json.load(codecs.open(danam_export, 'r', 'utf-8'))\n",
    "danam = danam['business_data']['resources']\n",
    "\n",
    "clean_for_report(danam)\n",
    "danam_df = pd.DataFrame(danam)"
   ]
  },
  {
   "cell_type": "code",
   "execution_count": 6,
   "metadata": {},
   "outputs": [],
   "source": [
    "#manual editing, just in case\n",
    "danam_df.loc[danam_df['danam_url']=='83d25607-b6cf-4031-bb2a-36e1532ced6a', 'mon_id'] = 'KIR4028'\n",
    "danam_df.loc[danam_df['danam_url']=='83d25607-b6cf-4031-bb2a-36e1532ced6a', 'filename'] = 'DANAM - KIR4028'\n",
    "danam_df.loc[danam_df['danam_url']=='83d25607-b6cf-4031-bb2a-36e1532ced6a', 'title'] = 'Report KIR4028'"
   ]
  },
  {
   "cell_type": "code",
   "execution_count": 7,
   "metadata": {},
   "outputs": [
    {
     "data": {
      "text/html": [
       "<div>\n",
       "<style scoped>\n",
       "    .dataframe tbody tr th:only-of-type {\n",
       "        vertical-align: middle;\n",
       "    }\n",
       "\n",
       "    .dataframe tbody tr th {\n",
       "        vertical-align: top;\n",
       "    }\n",
       "\n",
       "    .dataframe thead th {\n",
       "        text-align: right;\n",
       "    }\n",
       "</style>\n",
       "<table border=\"1\" class=\"dataframe\">\n",
       "  <thead>\n",
       "    <tr style=\"text-align: right;\">\n",
       "      <th></th>\n",
       "      <th>danam_url</th>\n",
       "      <th>mon_id</th>\n",
       "      <th>filename</th>\n",
       "      <th>title</th>\n",
       "      <th>classification_gnd</th>\n",
       "      <th>rights_owner</th>\n",
       "      <th>license</th>\n",
       "      <th>empty_col</th>\n",
       "      <th>editorial_text</th>\n",
       "      <th>Editor_agent_0</th>\n",
       "      <th>...</th>\n",
       "      <th>Photography_agent_3</th>\n",
       "      <th>Photography_role_3</th>\n",
       "      <th>Drawings_agent_4</th>\n",
       "      <th>Drawings_role_4</th>\n",
       "      <th>Drawings_agent_5</th>\n",
       "      <th>Drawings_role_5</th>\n",
       "      <th>Historical_agent_3</th>\n",
       "      <th>Historical_role_3</th>\n",
       "      <th>Photography_agent_4</th>\n",
       "      <th>Photography_role_4</th>\n",
       "    </tr>\n",
       "  </thead>\n",
       "  <tbody>\n",
       "    <tr>\n",
       "      <th>787</th>\n",
       "      <td>83d25607-b6cf-4031-bb2a-36e1532ced6a</td>\n",
       "      <td>KIR4028</td>\n",
       "      <td>DANAM - KIR4028</td>\n",
       "      <td>Report KIR4028</td>\n",
       "      <td>4177815-7</td>\n",
       "      <td>Nepal Heritage Documentation Project</td>\n",
       "      <td>CC BY-SA 4.0</td>\n",
       "      <td></td>\n",
       "      <td>[&lt;p&gt;Editor: Christiane Brosius&lt;/p&gt;\\n\\n&lt;p&gt;Descriptions, iconography, social and religious activities: Bharat Maharjan&lt;/p&gt;\\n\\n&lt;p&gt;Photography after 2015: Yogesh Budathoki&lt;/p&gt;\\n\\n&lt;p&gt;Drawings and architectural data: Anil Basukala, Bibek Basukala, Bijay Basukala, Reinhard Herdick&lt;/p&gt;\\n\\n&lt;p&gt;Historical events, inscriptions: Rajan Khatiwoda, Bharat Maharjan&lt;/p&gt;\\n]</td>\n",
       "      <td>1182530</td>\n",
       "      <td>...</td>\n",
       "      <td>NaN</td>\n",
       "      <td>NaN</td>\n",
       "      <td>NaN</td>\n",
       "      <td>NaN</td>\n",
       "      <td>NaN</td>\n",
       "      <td>NaN</td>\n",
       "      <td>NaN</td>\n",
       "      <td>NaN</td>\n",
       "      <td>NaN</td>\n",
       "      <td>NaN</td>\n",
       "    </tr>\n",
       "  </tbody>\n",
       "</table>\n",
       "<p>1 rows × 51 columns</p>\n",
       "</div>"
      ],
      "text/plain": [
       "                                danam_url   mon_id         filename  \\\n",
       "787  83d25607-b6cf-4031-bb2a-36e1532ced6a  KIR4028  DANAM - KIR4028   \n",
       "\n",
       "              title classification_gnd                          rights_owner  \\\n",
       "787  Report KIR4028          4177815-7  Nepal Heritage Documentation Project   \n",
       "\n",
       "          license empty_col  \\\n",
       "787  CC BY-SA 4.0             \n",
       "\n",
       "                                                                                                                                                                                                                                                                                                                                                            editorial_text  \\\n",
       "787  [<p>Editor: Christiane Brosius</p>\\n\\n<p>Descriptions, iconography, social and religious activities: Bharat Maharjan</p>\\n\\n<p>Photography after 2015: Yogesh Budathoki</p>\\n\\n<p>Drawings and architectural data: Anil Basukala, Bibek Basukala, Bijay Basukala, Reinhard Herdick</p>\\n\\n<p>Historical events, inscriptions: Rajan Khatiwoda, Bharat Maharjan</p>\\n]   \n",
       "\n",
       "    Editor_agent_0  ... Photography_agent_3 Photography_role_3  \\\n",
       "787        1182530  ...                 NaN                NaN   \n",
       "\n",
       "    Drawings_agent_4 Drawings_role_4 Drawings_agent_5 Drawings_role_5  \\\n",
       "787              NaN             NaN              NaN             NaN   \n",
       "\n",
       "    Historical_agent_3 Historical_role_3 Photography_agent_4  \\\n",
       "787                NaN               NaN                 NaN   \n",
       "\n",
       "    Photography_role_4  \n",
       "787                NaN  \n",
       "\n",
       "[1 rows x 51 columns]"
      ]
     },
     "execution_count": 7,
     "metadata": {},
     "output_type": "execute_result"
    }
   ],
   "source": [
    "danam_df.loc[danam_df['mon_id']=='KIR4028']"
   ]
  },
  {
   "cell_type": "code",
   "execution_count": 8,
   "metadata": {},
   "outputs": [],
   "source": [
    "# select monuments that we want to create reports for\n",
    "mon_ids = list_from_txt('mon/report.mon')\n",
    "to_upload = danam_df.loc[danam_df['mon_id'].isin(mon_ids)]\n",
    "to_upload = to_upload.fillna(\"NaN\")"
   ]
  },
  {
   "cell_type": "code",
   "execution_count": 11,
   "metadata": {},
   "outputs": [
    {
     "name": "stdout",
     "output_type": "stream",
     "text": [
      "Arches - loaded.\n",
      "DANAM - DLK0190.pdf downloaded.\n",
      "Arches - loaded.\n",
      "DANAM - BAL4001.pdf downloaded.\n",
      "Arches - loaded.\n",
      "DANAM - KIR4076.pdf downloaded.\n",
      "Arches - loaded.\n",
      "DANAM - DLK0122.pdf downloaded.\n",
      "Arches - loaded.\n",
      "DANAM - KAT2130.pdf downloaded.\n",
      "Arches - loaded.\n",
      "DANAM - BKT0070.pdf downloaded.\n",
      "Arches - loaded.\n",
      "DANAM - DLK0091.pdf downloaded.\n",
      "Arches - loaded.\n",
      "DANAM - DLK0121.pdf downloaded.\n",
      "Arches - loaded.\n",
      "DANAM - DLK0140.pdf downloaded.\n",
      "Arches - loaded.\n",
      "DANAM - DLK0200.pdf downloaded.\n"
     ]
    }
   ],
   "source": [
    "to_create_reports = to_upload[['danam_url', 'mon_id']].iterrows()\n",
    "driver = chromedriver_init(\"chromedriver\")\n",
    "get_reports(to_create_reports, driver)\n"
   ]
  },
  {
   "cell_type": "code",
   "execution_count": 11,
   "metadata": {},
   "outputs": [],
   "source": [
    "# prepare csv for metadata upload\n",
    "cols = danam_df.columns\n",
    "\n",
    "agents_roles = [i for i in cols if i[0].isupper()]\n",
    "cols = ['filename', 'title', 'classification_gnd', 'empty_col', 'mon_id', 'rights_owner', 'license']\n",
    "cols += agents_roles\n",
    "\n",
    "csv_str = to_upload.to_csv(columns=cols, header=False, sep=';', index=False, quotechar = \"\\\"\", quoting=csv.QUOTE_ALL)\n",
    "csv_str = csv_str.replace(\"\\\"NaN\\\";\", \"\").replace(\"\\\"NaN\\\"\", \"\")\n",
    "\n",
    "file = codecs.open(\"csv/report_metadata.csv\", 'w', 'utf-8')\n",
    "file.write(csv_str)\n",
    "file.close()"
   ]
  }
 ],
 "metadata": {
  "interpreter": {
   "hash": "ac59ebe37160ed0dfa835113d9b8498d9f09ceb179beaac4002f036b9467c963"
  },
  "kernelspec": {
   "display_name": "Python 3.9.6 64-bit",
   "name": "python3"
  },
  "language_info": {
   "codemirror_mode": {
    "name": "ipython",
    "version": 3
   },
   "file_extension": ".py",
   "mimetype": "text/x-python",
   "name": "python",
   "nbconvert_exporter": "python",
   "pygments_lexer": "ipython3",
   "version": "3.9.6"
  },
  "orig_nbformat": 4
 },
 "nbformat": 4,
 "nbformat_minor": 2
}
