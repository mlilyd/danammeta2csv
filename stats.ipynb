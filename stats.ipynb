{
 "cells": [
  {
   "cell_type": "code",
   "execution_count": 1,
   "metadata": {},
   "outputs": [],
   "source": [
    "import pandas as pd\n",
    "pd.set_option('display.max_colwidth', None)\n",
    "pd.set_option('display.max_rows', 100)\n",
    "\n",
    "from datetime import datetime\n",
    "from IPython.display import Markdown, display\n",
    "\n",
    "from scripts.clean_json import clean_json\n"
   ]
  },
  {
   "cell_type": "code",
   "execution_count": 2,
   "metadata": {},
   "outputs": [],
   "source": [
    "# read DANAM json export\n",
    "danam_export = \"json\\DANAM\\Monument_2022-04-25_04-41-33.json\"\n",
    "danam_images = clean_json(danam_export)\n",
    "danam_df = pd.DataFrame(danam_images)"
   ]
  },
  {
   "cell_type": "markdown",
   "metadata": {},
   "source": [
    "### Data Output"
   ]
  },
  {
   "cell_type": "code",
   "execution_count": 3,
   "metadata": {},
   "outputs": [
    {
     "data": {
      "text/markdown": [
       "### Activities between 2021-10-01 and 2022-03-31"
      ],
      "text/plain": [
       "<IPython.core.display.Markdown object>"
      ]
     },
     "metadata": {},
     "output_type": "display_data"
    },
    {
     "data": {
      "text/markdown": [
       "\n",
       "|   |   |\n",
       "|---|---|\n",
       "| Monuments updated in this time period  | 251  |\n",
       "| Inscriptions updated in this time period  | 395  |\n",
       "| Photographs updated in this time period  | 2427  |\n",
       "| Drawings updated in this time period  | 485  |\n",
       "| Historical images updated in this time period  | 420  |\n",
       "\n"
      ],
      "text/plain": [
       "<IPython.core.display.Markdown object>"
      ]
     },
     "metadata": {},
     "output_type": "display_data"
    }
   ],
   "source": [
    "## Time Period ##\n",
    "## format: year, month, date\n",
    "start = datetime(2021, 10, 1)\n",
    "end = datetime(2022, 3, 31)\n",
    "display(Markdown(\n",
    "    \"### Activities between {} and {}\"\n",
    "    .format(start.strftime(\"%Y-%m-%d\"), end.strftime(\"%Y-%m-%d\"))\n",
    "    ))\n",
    "\n",
    "# Filter out danam image entries by the given time period above.\n",
    "query = danam_df\n",
    "query = query.loc[query['lastModified'] > start]\n",
    "query = query.loc[query['lastModified'] < end]\n",
    "\n",
    "total_monuments = set(query['mon_id'])\n",
    "inscriptions = query.loc[query['filename'].str.contains(\"_I_\")]\n",
    "photos = query.loc[query['filename'].str.contains(\"_P_\")]\n",
    "drawings = query.loc[query['filename'].str.contains(\"_D_\")]\n",
    "historical = query.loc[query['filename'].str.contains(\"_H_\")]\n",
    "\n",
    "display(Markdown(\n",
    "\"\"\"\n",
    "|   |   |\n",
    "|---|---|\n",
    "| Monuments updated in this time period  | {0}  |\n",
    "| Inscriptions updated in this time period  | {1}  |\n",
    "| Photographs updated in this time period  | {2}  |\n",
    "| Drawings updated in this time period  | {3}  |\n",
    "| Historical images updated in this time period  | {5}  |\n",
    "\n",
    "\"\"\".format(len(total_monuments),\n",
    "            inscriptions.shape[0],\n",
    "            photos.shape[0],\n",
    "            drawings.shape[0],\n",
    "            query.shape[0] - inscriptions.shape[0] - photos.shape[0] - drawings.shape[0],\n",
    "            historical.shape[0]\n",
    ")\n",
    "))"
   ]
  },
  {
   "cell_type": "code",
   "execution_count": 4,
   "metadata": {},
   "outputs": [
    {
     "name": "stdout",
     "output_type": "stream",
     "text": [
      "Percentage of images with valid captions: 0.7735874200426439\n",
      "Percentage of images with invalid captions: 0.22641257995735609\n"
     ]
    }
   ],
   "source": [
    "valid_captions = danam_df.loc[danam_df['validCaption']].shape[0]\n",
    "all_images = danam_df.shape[0]\n",
    "\n",
    "print(\"Percentage of images with valid captions: {}\".format(valid_captions/all_images))\n",
    "print(\"Percentage of images with invalid captions: {}\".format(1-(valid_captions/all_images)))\n"
   ]
  }
 ],
 "metadata": {
  "interpreter": {
   "hash": "ac59ebe37160ed0dfa835113d9b8498d9f09ceb179beaac4002f036b9467c963"
  },
  "kernelspec": {
   "display_name": "Python 3.9.6 64-bit",
   "language": "python",
   "name": "python3"
  },
  "language_info": {
   "codemirror_mode": {
    "name": "ipython",
    "version": 3
   },
   "file_extension": ".py",
   "mimetype": "text/x-python",
   "name": "python",
   "nbconvert_exporter": "python",
   "pygments_lexer": "ipython3",
   "version": "3.9.6"
  },
  "orig_nbformat": 4
 },
 "nbformat": 4,
 "nbformat_minor": 2
}
