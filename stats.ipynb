{
 "cells": [
  {
   "cell_type": "markdown",
   "metadata": {},
   "source": [
    "# DANAM Image Metadata Statistics\n",
    "This notebook is used along with the scripts clean_json and caption_processing and to give statistics about the current DANAM image metadata.\n",
    "Queries is done via Pandas Dataframe."
   ]
  },
  {
   "cell_type": "code",
   "execution_count": 1,
   "metadata": {},
   "outputs": [],
   "source": [
    "import pandas as pd\n",
    "pd.set_option('display.max_colwidth', None)\n",
    "pd.set_option('display.max_rows', 100)\n",
    "\n",
    "from datetime import datetime\n",
    "from IPython.display import Markdown, display\n",
    "\n",
    "from scripts.clean_json import clean_json\n"
   ]
  },
  {
   "cell_type": "code",
   "execution_count": 2,
   "metadata": {},
   "outputs": [],
   "source": [
    "# read DANAM json export, always replace with the latest \n",
    "danam_export = \"json\\DANAM\\Monument_2022-10-24_02-12-03.json\"\n",
    "danam_images = clean_json(danam_export)\n",
    "danam_df = pd.DataFrame(danam_images)"
   ]
  },
  {
   "cell_type": "markdown",
   "metadata": {},
   "source": [
    "### Data Output"
   ]
  },
  {
   "cell_type": "code",
   "execution_count": 4,
   "metadata": {},
   "outputs": [
    {
     "data": {
      "text/markdown": [
       "### Activities between 2022-04-01 and 2022-09-30"
      ],
      "text/plain": [
       "<IPython.core.display.Markdown object>"
      ]
     },
     "metadata": {},
     "output_type": "display_data"
    },
    {
     "data": {
      "text/markdown": [
       "\n",
       "|   |   |\n",
       "|---|---|\n",
       "| Monuments updated in this time period  | 202  |\n",
       "| Inscriptions updated in this time period  | 556  |\n",
       "| Photographs updated in this time period  | 2371  |\n",
       "| Drawings updated in this time period  | 463  |\n",
       "| Historical images updated in this time period  | 268  |\n",
       "\n"
      ],
      "text/plain": [
       "<IPython.core.display.Markdown object>"
      ]
     },
     "metadata": {},
     "output_type": "display_data"
    }
   ],
   "source": [
    "## Time Period ##\n",
    "## format: year, month, date\n",
    "start = datetime(2022, 4, 1)\n",
    "end = datetime(2022, 9, 30)\n",
    "display(Markdown(\n",
    "    \"### Activities between {} and {}\"\n",
    "    .format(start.strftime(\"%Y-%m-%d\"), end.strftime(\"%Y-%m-%d\"))\n",
    "    ))\n",
    "\n",
    "# Filter out danam image entries by the given time period above.\n",
    "query = danam_df\n",
    "query = query.loc[query['lastModified'] > start]\n",
    "query = query.loc[query['lastModified'] < end]\n",
    "\n",
    "total_monuments = set(query['mon_id'])\n",
    "inscriptions = query.loc[query['filename'].str.contains(\"_I_\")]\n",
    "photos = query.loc[query['filename'].str.contains(\"_P_\")]\n",
    "drawings = query.loc[query['filename'].str.contains(\"_D_\")]\n",
    "historical = query.loc[query['filename'].str.contains(\"_H_\")]\n",
    "\n",
    "display(Markdown(\n",
    "\"\"\"\n",
    "|   |   |\n",
    "|---|---|\n",
    "| Monuments updated in this time period  | {0}  |\n",
    "| Inscriptions updated in this time period  | {1}  |\n",
    "| Photographs updated in this time period  | {2}  |\n",
    "| Drawings updated in this time period  | {3}  |\n",
    "| Historical images updated in this time period  | {5}  |\n",
    "\n",
    "\"\"\".format(len(total_monuments),\n",
    "            inscriptions.shape[0],\n",
    "            photos.shape[0],\n",
    "            drawings.shape[0],\n",
    "            query.shape[0] - inscriptions.shape[0] - photos.shape[0] - drawings.shape[0],\n",
    "            historical.shape[0]\n",
    ")\n",
    "))"
   ]
  },
  {
   "cell_type": "code",
   "execution_count": 6,
   "metadata": {},
   "outputs": [
    {
     "name": "stdout",
     "output_type": "stream",
     "text": [
      "Percentage of images with valid captions: 0.8059075071270193\n",
      "Percentage of images with invalid captions: 0.1940924928729807\n"
     ]
    }
   ],
   "source": [
    "valid_captions = danam_df.loc[danam_df['validCaption']].shape[0]\n",
    "all_images = danam_df.shape[0]\n",
    "\n",
    "print(\"Percentage of images with valid captions: {}\".format(valid_captions/all_images))\n",
    "print(\"Percentage of images with invalid captions: {}\".format(1-(valid_captions/all_images)))\n"
   ]
  }
 ],
 "metadata": {
  "kernelspec": {
   "display_name": "Python 3.9.7 64-bit",
   "language": "python",
   "name": "python3"
  },
  "language_info": {
   "codemirror_mode": {
    "name": "ipython",
    "version": 3
   },
   "file_extension": ".py",
   "mimetype": "text/x-python",
   "name": "python",
   "nbconvert_exporter": "python",
   "pygments_lexer": "ipython3",
   "version": "3.9.7"
  },
  "orig_nbformat": 4,
  "vscode": {
   "interpreter": {
    "hash": "001b5943bb8859b41456916c53e3ef6d303e5ecfed20b62804357ddfa4bea080"
   }
  }
 },
 "nbformat": 4,
 "nbformat_minor": 2
}
