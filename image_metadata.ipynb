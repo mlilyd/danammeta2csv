{
 "cells": [
  {
   "cell_type": "markdown",
   "metadata": {},
   "source": [
    "# DANAM Image Metadata Notebook\n",
    "This notebook is used along with the scripts clean_json and caption_processing and to query and analyze DANAM's image metadata quickly.\n",
    "\n",
    "Queries is done via Pandas Dataframe.\n"
   ]
  },
  {
   "cell_type": "code",
   "execution_count": 1,
   "metadata": {},
   "outputs": [],
   "source": [
    "import pandas as pd\n",
    "pd.set_option('display.max_colwidth', None)\n",
    "pd.set_option('display.max_rows', 100)\n",
    "\n",
    "from scripts.clean_json import clean_json\n"
   ]
  },
  {
   "cell_type": "markdown",
   "metadata": {},
   "source": [
    "### Read DANAM json export\n",
    "Always replace with the latest export"
   ]
  },
  {
   "cell_type": "code",
   "execution_count": 2,
   "metadata": {},
   "outputs": [],
   "source": [
    "# read DANAM json export\n",
    "danam_export = \"json\\DANAM\\Monument_2022-11-07_01-16-16.json\"\n",
    "danam_images = clean_json(danam_export)\n",
    "danam_df = pd.DataFrame(danam_images)"
   ]
  },
  {
   "cell_type": "markdown",
   "metadata": {},
   "source": [
    "## Queries\n",
    "### Checking images per monument"
   ]
  },
  {
   "cell_type": "code",
   "execution_count": 3,
   "metadata": {},
   "outputs": [],
   "source": [
    "headers = ['danam_caption', 'empty_column', 'filename_danam', 'filetype',\n",
    "       'filename_danam_2', 'filetype_2', 'filename', 'mon_id',\n",
    "       'classification', 'notes', 'heidoc', 'heidata', 'validCaption',\n",
    "       'caption', 'date1', 'date2', 'date', 'date3', 'agent', 'role', 'agent2',\n",
    "       'role2', 'copyright', 'source', 'class_code', 'agent3', 'date_scan',\n",
    "       'license', 'url', 'rights_text', 'lastModified']"
   ]
  },
  {
   "cell_type": "code",
   "execution_count": 8,
   "metadata": {},
   "outputs": [
    {
     "name": "stdout",
     "output_type": "stream",
     "text": [
      "Monument ID: LAL4138\n",
      "Number of images in DANAM: 18\n",
      "Images that matched query: 4\n"
     ]
    },
    {
     "data": {
      "text/html": [
       "<div>\n",
       "<style scoped>\n",
       "    .dataframe tbody tr th:only-of-type {\n",
       "        vertical-align: middle;\n",
       "    }\n",
       "\n",
       "    .dataframe tbody tr th {\n",
       "        vertical-align: top;\n",
       "    }\n",
       "\n",
       "    .dataframe thead th {\n",
       "        text-align: right;\n",
       "    }\n",
       "</style>\n",
       "<table border=\"1\" class=\"dataframe\">\n",
       "  <thead>\n",
       "    <tr style=\"text-align: right;\">\n",
       "      <th></th>\n",
       "      <th>validCaption</th>\n",
       "      <th>filename</th>\n",
       "      <th>danam_caption</th>\n",
       "      <th>caption</th>\n",
       "      <th>date</th>\n",
       "      <th>agent</th>\n",
       "      <th>classification</th>\n",
       "      <th>notes</th>\n",
       "    </tr>\n",
       "  </thead>\n",
       "  <tbody>\n",
       "    <tr>\n",
       "      <th>6002</th>\n",
       "      <td>True</td>\n",
       "      <td>LAL4138_H_201502</td>\n",
       "      <td>Lāmanaḥ Phalcā, view from W; photo by Christiane Brosius; 2015-02</td>\n",
       "      <td>Lāmanaḥ Phalcā, view from W</td>\n",
       "      <td>2015-02</td>\n",
       "      <td>1182530</td>\n",
       "      <td>Architekturfotografie</td>\n",
       "      <td></td>\n",
       "    </tr>\n",
       "    <tr>\n",
       "      <th>5997</th>\n",
       "      <td>True</td>\n",
       "      <td>LAL4138_H_20150315_01</td>\n",
       "      <td>Lāmanaḥ Phalcā, people gather to play cards, view from W; photo by Christiane Brosius; 2015-03-15</td>\n",
       "      <td>Lāmanaḥ Phalcā, people gather to play cards, view from W</td>\n",
       "      <td>2015-03-15</td>\n",
       "      <td>1182530</td>\n",
       "      <td>Architekturfotografie</td>\n",
       "      <td></td>\n",
       "    </tr>\n",
       "    <tr>\n",
       "      <th>5991</th>\n",
       "      <td>True</td>\n",
       "      <td>LAL4138_H_20150315_02</td>\n",
       "      <td>Lāmanaḥ Phalcā, people gather to play cards, view from S; photo by Christiane Brosius; 2015-03-15</td>\n",
       "      <td>Lāmanaḥ Phalcā, people gather to play cards, view from S</td>\n",
       "      <td>2015-03-15</td>\n",
       "      <td>1182530</td>\n",
       "      <td>Architekturfotografie</td>\n",
       "      <td></td>\n",
       "    </tr>\n",
       "    <tr>\n",
       "      <th>5988</th>\n",
       "      <td>True</td>\n",
       "      <td>LAL4138_P_20151108_01</td>\n",
       "      <td>Lāmanaḥ Phalcā, Patis in Patan, PhotoKathmandu, where the lives of locals who use phalcās was documented by means of photographs and interviews; photo by Christiane Brosius; 2015-11-08</td>\n",
       "      <td>Lāmanaḥ Phalcā, Patis in Patan, PhotoKathmandu, where the lives of locals who use phalcās was documented by means of photographs and interviews</td>\n",
       "      <td>2015-11-08</td>\n",
       "      <td>1182530</td>\n",
       "      <td>Architekturfotografie</td>\n",
       "      <td></td>\n",
       "    </tr>\n",
       "  </tbody>\n",
       "</table>\n",
       "</div>"
      ],
      "text/plain": [
       "      validCaption               filename  \\\n",
       "6002          True       LAL4138_H_201502   \n",
       "5997          True  LAL4138_H_20150315_01   \n",
       "5991          True  LAL4138_H_20150315_02   \n",
       "5988          True  LAL4138_P_20151108_01   \n",
       "\n",
       "                                                                                                                                                                                     danam_caption  \\\n",
       "6002                                                                                                                          Lāmanaḥ Phalcā, view from W; photo by Christiane Brosius; 2015-02     \n",
       "5997                                                                                          Lāmanaḥ Phalcā, people gather to play cards, view from W; photo by Christiane Brosius; 2015-03-15     \n",
       "5991                                                                                          Lāmanaḥ Phalcā, people gather to play cards, view from S; photo by Christiane Brosius; 2015-03-15     \n",
       "5988  Lāmanaḥ Phalcā, Patis in Patan, PhotoKathmandu, where the lives of locals who use phalcās was documented by means of photographs and interviews; photo by Christiane Brosius; 2015-11-08     \n",
       "\n",
       "                                                                                                                                                caption  \\\n",
       "6002                                                                                                                       Lāmanaḥ Phalcā, view from W   \n",
       "5997                                                                                          Lāmanaḥ Phalcā, people gather to play cards, view from W   \n",
       "5991                                                                                          Lāmanaḥ Phalcā, people gather to play cards, view from S   \n",
       "5988  Lāmanaḥ Phalcā, Patis in Patan, PhotoKathmandu, where the lives of locals who use phalcās was documented by means of photographs and interviews   \n",
       "\n",
       "            date    agent         classification notes  \n",
       "6002     2015-02  1182530  Architekturfotografie        \n",
       "5997  2015-03-15  1182530  Architekturfotografie        \n",
       "5991  2015-03-15  1182530  Architekturfotografie        \n",
       "5988  2015-11-08  1182530  Architekturfotografie        "
      ]
     },
     "execution_count": 8,
     "metadata": {},
     "output_type": "execute_result"
    }
   ],
   "source": [
    "# query through metadata table based on mon id\n",
    "mon_id = 'LAL4138'\n",
    "\n",
    "#############################\n",
    "print(\"Monument ID: {}\".format(mon_id))\n",
    "mon = danam_df.loc[(danam_df['mon_id']==mon_id) | (danam_df['mon_id']==mon_id.upper())]\n",
    "print(\"Number of images in DANAM: {}\".format(mon.shape[0]))\n",
    "##############################\n",
    "\n",
    "### special queries ###\n",
    "column = 'date'\n",
    "search_term = '2015'\n",
    "##############################\n",
    "mon = mon.loc[mon[column].str.contains(search_term)]\n",
    "#mon = mon.loc[mon['validCaption']==False]\n",
    "print(\"Images that matched query: {}\".format(mon.shape[0]))\n",
    "##############################\n",
    "\n",
    "select_headers = ['validCaption','filename', 'danam_caption', 'caption', 'date', 'agent', 'classification', 'notes']\n",
    "#select_headers = ['validCaption', 'filename', 'danam_caption', 'caption', 'date', 'agent', 'role', 'classification', 'notes', 'copyright', 'source', 'license', 'rights_text']\n",
    "\n",
    "mon = mon[select_headers].sort_values('filename')\n",
    "mon[select_headers].sort_values('filename')"
   ]
  }
 ],
 "metadata": {
  "kernelspec": {
   "display_name": "Python 3.9.6 64-bit",
   "language": "python",
   "name": "python3"
  },
  "language_info": {
   "codemirror_mode": {
    "name": "ipython",
    "version": 3
   },
   "file_extension": ".py",
   "mimetype": "text/x-python",
   "name": "python",
   "nbconvert_exporter": "python",
   "pygments_lexer": "ipython3",
   "version": "3.9.6"
  },
  "vscode": {
   "interpreter": {
    "hash": "11938c6bc6919ae2720b4d5011047913343b08a43b18698fd82dedb0d4417594"
   }
  }
 },
 "nbformat": 4,
 "nbformat_minor": 2
}
