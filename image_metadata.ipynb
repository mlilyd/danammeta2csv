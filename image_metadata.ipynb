{
 "cells": [
  {
   "cell_type": "markdown",
   "metadata": {},
   "source": [
    "# DANAM Image Metadata Notebook\n",
    "This notebook is used along with the scripts clean_json and caption_processing and to query and analyze DANAM's image metadata quickly.\n",
    "\n",
    "Queries is done via Pandas Dataframe.\n"
   ]
  },
  {
   "cell_type": "code",
   "execution_count": 1,
   "metadata": {},
   "outputs": [],
   "source": [
    "import pandas as pd\n",
    "pd.set_option('display.max_colwidth', None)\n",
    "pd.set_option('display.max_rows', 100)\n",
    "\n",
    "from scripts.clean_json import clean_json\n"
   ]
  },
  {
   "cell_type": "markdown",
   "metadata": {},
   "source": [
    "### Read DANAM json export\n",
    "Always replace with the latest export"
   ]
  },
  {
   "cell_type": "code",
   "execution_count": 2,
   "metadata": {},
   "outputs": [],
   "source": [
    "# read DANAM json export\n",
    "danam_export = \"json\\DANAM\\Monument_2022-05-01_04-42-51.json\"\n",
    "danam_images = clean_json(danam_export)\n",
    "danam_df = pd.DataFrame(danam_images)"
   ]
  },
  {
   "cell_type": "markdown",
   "metadata": {},
   "source": [
    "## Queries\n",
    "### Checking images per monument"
   ]
  },
  {
   "cell_type": "code",
   "execution_count": 3,
   "metadata": {},
   "outputs": [],
   "source": [
    "headers = ['danam_caption', 'empty_column', 'filename_danam', 'filetype',\n",
    "       'filename_danam_2', 'filetype_2', 'filename', 'mon_id',\n",
    "       'classification', 'notes', 'heidoc', 'heidata', 'validCaption',\n",
    "       'caption', 'date1', 'date2', 'date', 'date3', 'agent', 'role', 'agent2',\n",
    "       'role2', 'copyright', 'source', 'class_code', 'agent3', 'date_scan',\n",
    "       'license', 'url', 'rights_text', 'lastModified']"
   ]
  },
  {
   "cell_type": "code",
   "execution_count": 8,
   "metadata": {},
   "outputs": [
    {
     "name": "stdout",
     "output_type": "stream",
     "text": [
      "Monument ID: LAL0061\n",
      "Number of images in DANAM: 27\n",
      "Images that matched query: 4\n"
     ]
    },
    {
     "data": {
      "text/html": [
       "<div>\n",
       "<style scoped>\n",
       "    .dataframe tbody tr th:only-of-type {\n",
       "        vertical-align: middle;\n",
       "    }\n",
       "\n",
       "    .dataframe tbody tr th {\n",
       "        vertical-align: top;\n",
       "    }\n",
       "\n",
       "    .dataframe thead th {\n",
       "        text-align: right;\n",
       "    }\n",
       "</style>\n",
       "<table border=\"1\" class=\"dataframe\">\n",
       "  <thead>\n",
       "    <tr style=\"text-align: right;\">\n",
       "      <th></th>\n",
       "      <th>filename</th>\n",
       "      <th>danam_caption</th>\n",
       "      <th>caption</th>\n",
       "      <th>date</th>\n",
       "      <th>agent</th>\n",
       "      <th>role</th>\n",
       "      <th>classification</th>\n",
       "      <th>notes</th>\n",
       "      <th>copyright</th>\n",
       "      <th>source</th>\n",
       "      <th>license</th>\n",
       "      <th>rights_text</th>\n",
       "    </tr>\n",
       "  </thead>\n",
       "  <tbody>\n",
       "    <tr>\n",
       "      <th>22040</th>\n",
       "      <td>LAL0061_D_2022_floor_plan</td>\n",
       "      <td>Taḥbāhāḥ Dhvākhā; floor plan by Bijay Basukala; 2022-04-28  ;</td>\n",
       "      <td>Taḥbāhāḥ Dhvākhā, floor plan</td>\n",
       "      <td>2022-04-28</td>\n",
       "      <td>1156661</td>\n",
       "      <td>draftsman</td>\n",
       "      <td>Architekturzeichnung</td>\n",
       "      <td></td>\n",
       "      <td>Nepal Heritage Documentation Project</td>\n",
       "      <td></td>\n",
       "      <td>CC BY-SA 4.0</td>\n",
       "      <td>Nepal Heritage Documentation Project</td>\n",
       "    </tr>\n",
       "    <tr>\n",
       "      <th>22037</th>\n",
       "      <td>LAL0061_D_2022_location_map</td>\n",
       "      <td>Taḥbāhāḥ Dhvākhā; location map by Niels Gutschow, Bijay Basukala; 1990; updated by Anil Basukala, 2022-04-28  ;</td>\n",
       "      <td>Taḥbāhāḥ Dhvākhā, location map</td>\n",
       "      <td>1990</td>\n",
       "      <td>1248173</td>\n",
       "      <td>draftsman</td>\n",
       "      <td>Karte</td>\n",
       "      <td></td>\n",
       "      <td>Nepal Heritage Documentation Project</td>\n",
       "      <td></td>\n",
       "      <td>CC BY-SA 4.0</td>\n",
       "      <td>Nepal Heritage Documentation Project</td>\n",
       "    </tr>\n",
       "    <tr>\n",
       "      <th>22039</th>\n",
       "      <td>LAL0061_D_2022_section</td>\n",
       "      <td>Taḥbāhāḥ Dhvākhā; section by Bijay Basukala; 2022-04-29  ;</td>\n",
       "      <td>Taḥbāhāḥ Dhvākhā, section</td>\n",
       "      <td>2022-04-29</td>\n",
       "      <td>1156661</td>\n",
       "      <td>draftsman</td>\n",
       "      <td>Architekturzeichnung</td>\n",
       "      <td></td>\n",
       "      <td>Nepal Heritage Documentation Project</td>\n",
       "      <td></td>\n",
       "      <td>CC BY-SA 4.0</td>\n",
       "      <td>Nepal Heritage Documentation Project</td>\n",
       "    </tr>\n",
       "    <tr>\n",
       "      <th>22035</th>\n",
       "      <td>LAL0061_D_2022_site_plan</td>\n",
       "      <td>Taḥbāhāḥ Dhvākhā; site plan by Bijay Basukala; 2022-04-29  ;</td>\n",
       "      <td>Taḥbāhāḥ Dhvākhā, site plan</td>\n",
       "      <td>2022-04-29</td>\n",
       "      <td>1156661</td>\n",
       "      <td>draftsman</td>\n",
       "      <td>Architekturzeichnung</td>\n",
       "      <td></td>\n",
       "      <td>Nepal Heritage Documentation Project</td>\n",
       "      <td></td>\n",
       "      <td>CC BY-SA 4.0</td>\n",
       "      <td>Nepal Heritage Documentation Project</td>\n",
       "    </tr>\n",
       "  </tbody>\n",
       "</table>\n",
       "</div>"
      ],
      "text/plain": [
       "                          filename  \\\n",
       "22040    LAL0061_D_2022_floor_plan   \n",
       "22037  LAL0061_D_2022_location_map   \n",
       "22039       LAL0061_D_2022_section   \n",
       "22035     LAL0061_D_2022_site_plan   \n",
       "\n",
       "                                                                                                           danam_caption  \\\n",
       "22040                                                    Taḥbāhāḥ Dhvākhā; floor plan by Bijay Basukala; 2022-04-28  ;     \n",
       "22037  Taḥbāhāḥ Dhvākhā; location map by Niels Gutschow, Bijay Basukala; 1990; updated by Anil Basukala, 2022-04-28  ;     \n",
       "22039                                                       Taḥbāhāḥ Dhvākhā; section by Bijay Basukala; 2022-04-29  ;     \n",
       "22035                                                     Taḥbāhāḥ Dhvākhā; site plan by Bijay Basukala; 2022-04-29  ;     \n",
       "\n",
       "                              caption        date    agent       role  \\\n",
       "22040    Taḥbāhāḥ Dhvākhā, floor plan  2022-04-28  1156661  draftsman   \n",
       "22037  Taḥbāhāḥ Dhvākhā, location map        1990  1248173  draftsman   \n",
       "22039       Taḥbāhāḥ Dhvākhā, section  2022-04-29  1156661  draftsman   \n",
       "22035     Taḥbāhāḥ Dhvākhā, site plan  2022-04-29  1156661  draftsman   \n",
       "\n",
       "             classification notes                             copyright  \\\n",
       "22040  Architekturzeichnung        Nepal Heritage Documentation Project   \n",
       "22037                 Karte        Nepal Heritage Documentation Project   \n",
       "22039  Architekturzeichnung        Nepal Heritage Documentation Project   \n",
       "22035  Architekturzeichnung        Nepal Heritage Documentation Project   \n",
       "\n",
       "      source       license                           rights_text  \n",
       "22040         CC BY-SA 4.0  Nepal Heritage Documentation Project  \n",
       "22037         CC BY-SA 4.0  Nepal Heritage Documentation Project  \n",
       "22039         CC BY-SA 4.0  Nepal Heritage Documentation Project  \n",
       "22035         CC BY-SA 4.0  Nepal Heritage Documentation Project  "
      ]
     },
     "execution_count": 8,
     "metadata": {},
     "output_type": "execute_result"
    }
   ],
   "source": [
    "# query through metadata table based on mon id\n",
    "mon_id = 'LAL0061'\n",
    "##############################\n",
    "print(\"Monument ID: {}\".format(mon_id))\n",
    "mon = danam_df.loc[(danam_df['mon_id']==mon_id) | (danam_df['mon_id']==mon_id.upper())]\n",
    "print(\"Number of images in DANAM: {}\".format(mon.shape[0]))\n",
    "##############################\n",
    "\n",
    "### special queries ###\n",
    "column = 'filename'\n",
    "search_term = '_D_'\n",
    "##############################\n",
    "mon = mon.loc[mon[column].str.contains(search_term)]\n",
    "#mon = mon.loc[mon['validCaption']==False]\n",
    "print(\"Images that matched query: {}\".format(mon.shape[0]))\n",
    "##############################\n",
    "\n",
    "#select_headers = ['validCaption','filename', 'danam_caption', 'caption', 'date', 'agent', 'classification', 'notes']\n",
    "select_headers = ['filename', 'danam_caption', 'caption', 'date', 'agent', 'role', 'classification', 'notes', 'copyright', 'source', 'license', 'rights_text']\n",
    "\n",
    "mon = mon[select_headers].sort_values('filename')\n",
    "mon[select_headers].sort_values('filename')"
   ]
  }
 ],
 "metadata": {
  "interpreter": {
   "hash": "ac59ebe37160ed0dfa835113d9b8498d9f09ceb179beaac4002f036b9467c963"
  },
  "kernelspec": {
   "display_name": "Python 3.9.6 64-bit",
   "name": "python3"
  },
  "language_info": {
   "codemirror_mode": {
    "name": "ipython",
    "version": 3
   },
   "file_extension": ".py",
   "mimetype": "text/x-python",
   "name": "python",
   "nbconvert_exporter": "python",
   "pygments_lexer": "ipython3",
   "version": "3.9.6"
  }
 },
 "nbformat": 4,
 "nbformat_minor": 2
}
