{
 "cells": [
  {
   "cell_type": "code",
   "execution_count": 1,
   "metadata": {},
   "outputs": [],
   "source": [
    "import json, csv\n",
    "import codecs\n",
    "import pandas as pd\n",
    "pd.set_option('display.max_colwidth', None)\n",
    "pd.set_option('display.max_rows', 100)\n",
    "\n",
    "from datetime import datetime\n",
    "\n",
    "from clean_json import read_danam_export, get_caption, metadata_from_json, metadata_from_caption, valid_caption, replace_w_json\n",
    "from write_csv import list_from_txt\n"
   ]
  },
  {
   "cell_type": "code",
   "execution_count": 2,
   "metadata": {},
   "outputs": [],
   "source": [
    "# read DANAM json export\n",
    "danam_export = \"json\\DANAM\\Monument_2021-11-29_00-10-20.json\"\n",
    "danam = json.load(codecs.open(danam_export, 'r', 'utf-8'))\n",
    "danam = danam['business_data']['resources']\n",
    "\n"
   ]
  },
  {
   "cell_type": "code",
   "execution_count": 3,
   "metadata": {},
   "outputs": [],
   "source": [
    "# collect only danam images\n",
    "danam_images = read_danam_export(danam_export)\n",
    "\n",
    "# cleaning and geting metadata\n",
    "for image in danam_images:\n",
    "    image['danam_caption'] = get_caption(image).replace(\"\\n\", '')\n",
    "    \n",
    "    to_delete = \"If not otherwise stated, all images and texts in this monument folder are published under Creative Commons Attribution 4.0 License (CC BY-SA 4.0), and the copyright lies with NHDP. All visuals of this monument folder and more are (or will be) also stored in heidICON, the object and multimedia database of Heidelberg University. (Type the ID-number or key words in the first line and click the search field.) You will also find the initial report there. The latest report will always be available in DANAM (this page)\"\n",
    "    image['danam_caption'] = image['danam_caption'].replace(to_delete, \"\")\n",
    "    image['empty_column'] = \"\"   \n",
    "    metadata_from_json(image, image)\n",
    "\n",
    "    if image['filename'] == 'KIR0067_I_003_20210907_01':\n",
    "        image['filename'] = image['filename'].replace(\"7_01\", \"7\")\n",
    "        image['filename_danam'] = image['filename']\n",
    "\n",
    "    caption = image['danam_caption']\n",
    "    \n",
    "    fixes = json.load(open('json/dict/fixes.json'))[0]\n",
    "    caption = replace_w_json(caption, fixes)\n",
    "    image['validCaption'] = valid_caption(caption)\n",
    "    #image['old_validCaption'] = valid_caption(caption)\n",
    "\n",
    "    parts = caption.split(';')\n",
    "\n",
    "    if image['validCaption'] and len(parts)>=3:\n",
    "        metadata_from_caption(parts, image)\n",
    "    else:\n",
    "        image['validCaption'] = False     \n",
    "  \n",
    "        \n",
    "    image['lastModified'] = image['imagedata'][0]['lastModified']\n",
    "    timestamp = int(image['lastModified'])\n",
    "    image['lastModified'] = datetime.fromtimestamp(timestamp/1000)\n",
    "    \n",
    "    try:\n",
    "        del image['imagedata']\n",
    "        #del image['editorials']\n",
    "        del image['mon_ids']\n",
    "    except: \n",
    "        pass\n",
    "    \n",
    "    dels = [key for key in image.keys() if image[key]==None]\n",
    "    for i in dels:\n",
    "        del image[i]\n",
    "\n",
    "danam_df = pd.DataFrame(danam_images)"
   ]
  },
  {
   "cell_type": "code",
   "execution_count": 38,
   "metadata": {},
   "outputs": [
    {
     "data": {
      "text/plain": [
       "dict_keys(['4b84aa48-9eea-11e9-8b93-0242ac120006', '4b84aef8-9eea-11e9-8b93-0242ac120006', '4b84bd80-9eea-11e9-8b93-0242ac120006', 'danam_caption', 'empty_column', 'filename_danam', 'filetype', 'filename', 'mon_id', 'classification', 'notes', 'heidoc', 'heidata', 'validCaption', 'caption', 'date1', 'date2', 'date', 'date3', 'agent', 'role', 'agent2', 'role2', 'copyright', 'source', 'class_code', 'agent3', 'date_scan', 'license', 'url', 'rights_text', 'lastModified'])"
      ]
     },
     "execution_count": 38,
     "metadata": {},
     "output_type": "execute_result"
    }
   ],
   "source": [
    "danam_images[0].keys()\n"
   ]
  },
  {
   "cell_type": "code",
   "execution_count": 5,
   "metadata": {},
   "outputs": [
    {
     "name": "stdout",
     "output_type": "stream",
     "text": [
      "Percentage of images with valid captions: 0.722950736671561\n",
      "Percentage of images with invalid captions: 0.27704926332843904\n"
     ]
    }
   ],
   "source": [
    "valid_captions = danam_df.loc[danam_df['validCaption']].shape[0]\n",
    "all_images = danam_df.shape[0]\n",
    "\n",
    "print(\"Percentage of images with valid captions: {}\".format(valid_captions/all_images))\n",
    "print(\"Percentage of images with invalid captions: {}\".format(1-(valid_captions/all_images)))\n"
   ]
  },
  {
   "cell_type": "code",
   "execution_count": 19,
   "metadata": {},
   "outputs": [
    {
     "name": "stdout",
     "output_type": "stream",
     "text": [
      "4\n"
     ]
    },
    {
     "data": {
      "text/html": [
       "<div>\n",
       "<style scoped>\n",
       "    .dataframe tbody tr th:only-of-type {\n",
       "        vertical-align: middle;\n",
       "    }\n",
       "\n",
       "    .dataframe tbody tr th {\n",
       "        vertical-align: top;\n",
       "    }\n",
       "\n",
       "    .dataframe thead th {\n",
       "        text-align: right;\n",
       "    }\n",
       "</style>\n",
       "<table border=\"1\" class=\"dataframe\">\n",
       "  <thead>\n",
       "    <tr style=\"text-align: right;\">\n",
       "      <th></th>\n",
       "      <th>validCaption</th>\n",
       "      <th>filename</th>\n",
       "      <th>danam_caption</th>\n",
       "    </tr>\n",
       "  </thead>\n",
       "  <tbody>\n",
       "    <tr>\n",
       "      <th>18971</th>\n",
       "      <td>False</td>\n",
       "      <td>KAT3260-012_P_20150803</td>\n",
       "      <td>Śāntipura, mural on the east wall, view from W; photo by Ludovic Dusuzeau: 2015-08-03</td>\n",
       "    </tr>\n",
       "    <tr>\n",
       "      <th>19075</th>\n",
       "      <td>False</td>\n",
       "      <td>KAT3260_D_2021_floor_plan</td>\n",
       "      <td>Śāntipura, floor map by Ludovic Dusuzeau; 2015; updated by Thomas Schrom, 2021-07</td>\n",
       "    </tr>\n",
       "    <tr>\n",
       "      <th>19097</th>\n",
       "      <td>False</td>\n",
       "      <td>KAT3260_H_2000c_Shakya_01</td>\n",
       "      <td>Śāntipura, view from S; ca. 2000; courtesy of Shakya H. R; free access – no reuse; source: Shakya H. R, Śrī Svayaṃbhū Mahācaitya, 2004</td>\n",
       "    </tr>\n",
       "    <tr>\n",
       "      <th>19098</th>\n",
       "      <td>False</td>\n",
       "      <td>KAT3260_H_2000c_Shakya_02</td>\n",
       "      <td>Śāntipura, view from S; ca. 2000; courtesy of Shakya H. R; free access – no reuse; source: Shakya H. R, Śrī Svayaṃbhū Mahācaitya, 2004</td>\n",
       "    </tr>\n",
       "  </tbody>\n",
       "</table>\n",
       "</div>"
      ],
      "text/plain": [
       "       validCaption                   filename  \\\n",
       "18971         False     KAT3260-012_P_20150803   \n",
       "19075         False  KAT3260_D_2021_floor_plan   \n",
       "19097         False  KAT3260_H_2000c_Shakya_01   \n",
       "19098         False  KAT3260_H_2000c_Shakya_02   \n",
       "\n",
       "                                                                                                                                         danam_caption  \n",
       "18971                                                        Śāntipura, mural on the east wall, view from W; photo by Ludovic Dusuzeau: 2015-08-03    \n",
       "19075                                                           Śāntipura, floor map by Ludovic Dusuzeau; 2015; updated by Thomas Schrom, 2021-07     \n",
       "19097  Śāntipura, view from S; ca. 2000; courtesy of Shakya H. R; free access – no reuse; source: Shakya H. R, Śrī Svayaṃbhū Mahācaitya, 2004    \n",
       "19098  Śāntipura, view from S; ca. 2000; courtesy of Shakya H. R; free access – no reuse; source: Shakya H. R, Śrī Svayaṃbhū Mahācaitya, 2004    "
      ]
     },
     "execution_count": 19,
     "metadata": {},
     "output_type": "execute_result"
    }
   ],
   "source": [
    "# query through metadata table, check if monument is complete \n",
    "mon_id = 'KAT3260'\n",
    "mon = danam_df.loc[(danam_df['mon_id']==mon_id) | (danam_df['mon_id']==mon_id.upper())]\n",
    "#mon = mon.loc[mon['filename'].str.contains(\"_D_\")]\n",
    "mon = mon.loc[mon['validCaption']==False]\n",
    "print(mon.shape[0])\n",
    "mon[[ 'validCaption', 'filename', 'danam_caption']].sort_values('validCaption')\n",
    "#mon[[ 'validCaption', 'filename', 'danam_caption', 'date1', 'date2', 'date', 'date3', 'agent', 'role']].sort_values('validCaption')"
   ]
  },
  {
   "cell_type": "code",
   "execution_count": 34,
   "metadata": {},
   "outputs": [
    {
     "name": "stdout",
     "output_type": "stream",
     "text": [
      "829\n"
     ]
    }
   ],
   "source": [
    "# find recently updated monuments\n",
    "recent = danam_df.loc[danam_df['lastModified'] > '2021-11-01']\n",
    "print(recent.shape[0])\n",
    "recent_mon_ids = set(recent['mon_id'])\n",
    "file = open(\"mon\\\\recently_changed.mon\", 'w')\n",
    "for mon_id in recent_mon_ids:\n",
    "    file.write(mon_id+\"\\n\")\n",
    "file.close()\n",
    "    "
   ]
  },
  {
   "cell_type": "code",
   "execution_count": 48,
   "metadata": {},
   "outputs": [],
   "source": [
    "# Filter metadata according to current.mon and valid caption\n",
    "mon_ids = list_from_txt('mon/current.mon')\n",
    "\n",
    "to_upload = danam_df.loc[danam_df['mon_id'].isin(mon_ids)]\n",
    "to_upload = to_upload.loc[to_upload['validCaption']]"
   ]
  },
  {
   "cell_type": "code",
   "execution_count": 49,
   "metadata": {},
   "outputs": [],
   "source": [
    "# Writing to CSV \n",
    "cols = [\n",
    "        'filename', 'caption', 'date1', 'date2', 'date', 'date3', 'agent', 'role', 'agent2', 'role2',\n",
    "        'copyright', 'source', 'empty_column', 'notes', 'mon_id', 'class_code', 'classification', 'agent3', 'date_scan',\n",
    "        'license', 'url', 'rights_text', 'heidata', 'heidoc'\n",
    "        ]\n",
    "\n",
    "\n",
    "to_upload.to_csv(\"csv/image_metadata.csv\", columns=cols, header=False, sep=';', index=False, quotechar = \"\\\"\", quoting=csv.QUOTE_ALL)"
   ]
  }
 ],
 "metadata": {
  "interpreter": {
   "hash": "ac59ebe37160ed0dfa835113d9b8498d9f09ceb179beaac4002f036b9467c963"
  },
  "kernelspec": {
   "display_name": "Python 3.9.6 64-bit",
   "name": "python3"
  },
  "language_info": {
   "codemirror_mode": {
    "name": "ipython",
    "version": 3
   },
   "file_extension": ".py",
   "mimetype": "text/x-python",
   "name": "python",
   "nbconvert_exporter": "python",
   "pygments_lexer": "ipython3",
   "version": "3.9.7"
  }
 },
 "nbformat": 4,
 "nbformat_minor": 2
}
